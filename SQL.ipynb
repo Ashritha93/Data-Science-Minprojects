{
 "cells": [
  {
   "cell_type": "markdown",
   "metadata": {},
   "source": [
    "/* Welcome to the SQL mini project. For this project, you will use\n",
    "Springboard' online SQL platform, which you can log into through the\n",
    "following link:\n",
    "https://sql.springboard.com/\n",
    "Username: student\n",
    "Password: learn_sql@springboard\n",
    "The data you need is in the \"country_club\" database. This database\n",
    "contains 3 tables:\n",
    "    i) the \"Bookings\" table,\n",
    "    ii) the \"Facilities\" table, and\n",
    "    iii) the \"Members\" table.\n",
    "    \n",
    "    Note that, if you need to, you can also download these tables locally.\n",
    "In the mini project, you'll be asked a series of questions. You can\n",
    "solve them using the platform, but for the final deliverable,\n",
    "paste the code for each solution into this script, and upload it\n",
    "to your GitHub.\n",
    "Before starting with the questions, feel free to take your time,\n",
    "exploring the data, and getting acquainted with the 3 tables. */"
   ]
  },
  {
   "cell_type": "markdown",
   "metadata": {},
   "source": [
    "/* Q1: Some of the facilities charge a fee to members, but some do not.\n",
    "Please list the names of the facilities that do. */\n",
    "\n",
    "- - SELECT name FROM `Facilities`  WHERE membercost != '0.0'\n"
   ]
  },
  {
   "cell_type": "markdown",
   "metadata": {},
   "source": [
    "/* Q2: How many facilities do not charge a fee to members? */\n",
    "-- - SELECT COUNT(name) FROM `Facilities`  WHERE membercost = '0.0'\n"
   ]
  },
  {
   "cell_type": "markdown",
   "metadata": {},
   "source": [
    "/* Q3: How can you produce a list of facilities that charge a fee to members,\n",
    "where the fee is less than 20% of the facility's monthly maintenance cost?\n",
    "Return the facid, facility name, member cost, and monthly maintenance of the\n",
    "facilities in question. */\n",
    "\n",
    "-- - SELECT `facid`, `name`, `membercost`, `monthlymaintenance` FROM `Facilities` WHERE `membercost` < (`monthlymaintenance` * 0.2) AND `membercost`!=0\n"
   ]
  },
  {
   "cell_type": "markdown",
   "metadata": {},
   "source": [
    "/* Q4: How can you retrieve the details of facilities with ID 1 and 5?\n",
    "Write the query without using the OR operator. */\n",
    "\n",
    "-- - SELECT * FROM `Facilities` WHERE facid IN (1, 5)"
   ]
  },
  {
   "cell_type": "markdown",
   "metadata": {},
   "source": [
    "/* Q5: How can you produce a list of facilities, with each labelled as\n",
    "'cheap' or 'expensive', depending on if their monthly maintenance cost is\n",
    "more than $100? Return the name and monthly maintenance of the facilities\n",
    "in question. */\n",
    "\n",
    "-- - SELECT name, monthlymaintenance,\n",
    "--   CASE WHEN `monthlymaintenance` < 100 THEN \"cheap\"\n",
    "--        WHEN `monthlymaintenance` > 100 THEN \"expensive\"\n",
    "-- END AS FacilityText\n",
    "-- FROM `Facilities`  \n"
   ]
  },
  {
   "cell_type": "markdown",
   "metadata": {},
   "source": [
    "/* Q6: You'd like to get the first and last name of the last member(s)\n",
    "who signed up. Do not use the LIMIT clause for your solution. */\n",
    "\n",
    "-- - SELECT A.surname, A.firstname, MAX(B.bookid) FROM `Members` A, `Bookings` B WHERE A.memid = B.memid"
   ]
  },
  {
   "cell_type": "markdown",
   "metadata": {},
   "source": [
    "/* Q7: How can you produce a list of all members who have used a tennis court?\n",
    "Include in your output the name of the court, and the name of the member\n",
    "formatted as a single column. Ensure no duplicate data, and order by\n",
    "the member name. */\n",
    "\n",
    "-- SELECT DISTINCT(CONCAT(A.`surname`, A.`firstname`)) AS Member, C.name FROM `Members` A, `Bookings` B, `Facilities` C WHERE A.`memid`= B.`memid` AND B.`facid` = C.`facid`AND C.`name` LIKE 'Tennis Court%' ORDER BY Member\n",
    "\n",
    "\n"
   ]
  },
  {
   "cell_type": "markdown",
   "metadata": {},
   "source": [
    "/* Q8: How can you produce a list of bookings on the day of 2012-09-14 which\n",
    "will cost the member (or guest) more than $30? Remember that guests have\n",
    "different costs to members (the listed costs are per half-hour 'slot'), and\n",
    "the guest user's ID is always 0. Include in your output the name of the\n",
    "facility, the name of the member formatted as a single column, and the cost.\n",
    "Order by descending cost, and do not use any subqueries. */\n",
    "\n",
    " -- -SELECT CONCAT(C.surname, C.firstname) AS Membername, B.name, B.membercost, B.guestcost FROM `Bookings` A, `Facilities` B, `Members` C  WHERE A.`starttime` LIKE '2012-09-14%' AND A.`facid` = B.`facid` AND A.memid=C.memid AND (B.membercost > 30 OR B.guestcost > 30) ORDER BY B.membercost, B.guestcost DESC\n"
   ]
  },
  {
   "cell_type": "markdown",
   "metadata": {},
   "source": [
    "/* Q9: Produce a list of facilities with a total revenue less than 1000.\n",
    "The output of facility name and total revenue, sorted by revenue. Remember\n",
    "that there's a different cost for guests and members! */\n",
    "\n",
    "-- SELECT A.name, SUM(`membercost`+`guestcost`) FROM `Facilities` A, `Bookings` B WHERE A.`facid` = B.`facid` GROUP BY A.facid \n"
   ]
  }
 ],
 "metadata": {
  "kernelspec": {
   "display_name": "Python 3",
   "language": "python",
   "name": "python3"
  },
  "language_info": {
   "codemirror_mode": {
    "name": "ipython",
    "version": 3
   },
   "file_extension": ".py",
   "mimetype": "text/x-python",
   "name": "python",
   "nbconvert_exporter": "python",
   "pygments_lexer": "ipython3",
   "version": "3.7.4"
  }
 },
 "nbformat": 4,
 "nbformat_minor": 2
}
