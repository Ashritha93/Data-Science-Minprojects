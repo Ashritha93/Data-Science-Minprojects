{
 "cells": [
  {
   "cell_type": "markdown",
   "metadata": {},
   "source": [
    "**Inferential Statistics Ib - Frequentism\n",
    "Learning objectives\n",
    "\n",
    "Welcome to the second Frequentist inference mini-project! Over the course of working on this mini-project and the previous frequentist mini-project, you'll learn the fundamental concepts associated with frequentist inference. The following list includes the topics you will become familiar with as you work through these two mini-projects:\n",
    "\n",
    "the z-statistic\n",
    "the t-statistic\n",
    "the difference and relationship between the two\n",
    "the Central Limit Theorem, its assumptions and consequences\n",
    "how to estimate the population mean and standard deviation from a sample\n",
    "the concept of a sampling distribution of a test statistic, particularly for the mean\n",
    "how to combine these concepts to calculate confidence intervals and p-values\n",
    "how those confidence intervals and p-values allow you to perform hypothesis (or A/B) tests"
   ]
  },
  {
   "cell_type": "markdown",
   "metadata": {},
   "source": [
    "**Prerequisites\n",
    "\n",
    "what a random variable is\n",
    "what a probability density function (pdf) is\n",
    "what the cumulative density function is\n",
    "a high-level sense of what the Normal distribution\n",
    "If these concepts are new to you, please take a few moments to Google these topics in order to get a sense of what they are and how you might use them.\n",
    "\n",
    "These two notebooks were designed to bridge the gap between having a basic understanding of probability and random variables and being able to apply these concepts in Python. This second frequentist inference mini-project focuses on a real-world application of this type of inference to give you further practice using these concepts.\n",
    "\n",
    "In the previous notebook, we used only data from a known normal distribution. You'll now tackle real data, rather than simulated data, and answer some relevant real-world business problems using the data."
   ]
  },
  {
   "cell_type": "markdown",
   "metadata": {},
   "source": [
    "**Hospital medical charges\n",
    "\n",
    "Imagine that a hospital has hired you as their data analyst. An administrator is working on the hospital's business operations plan and needs you to help them answer some business questions. This mini-project, as well as the bootstrap and Bayesian inference mini-projects also found in this unit are designed to illustrate how each of the inferential statistics methods have their uses for different use cases. In this assignment notebook, you're going to use frequentist statistical inference on a data sample to answer the questions:\n",
    "\n",
    "1.has the hospital's revenue stream fallen below a key threshold?\n",
    "2.are patients with insurance really charged different amounts than those without? Answering that last question with a frequentist approach makes some assumptions, or requires some knowledge, about the two groups. In the next mini-project, you'll use bootstrapping to test that assumption. And in the final mini-project of the unit, you're going to create a model for simulating individual charges (not a sampling distribution) that the hospital can use to model a range of scenarios.\n",
    "We are going to use some data on medical charges obtained from Kaggle. For the purposes of this exercise, assume the observations are the result of random sampling from our one hospital. Recall in the previous assignment, we introduced the Central Limit Theorem (CLT), and how it tells us that the distributions of sample statistics approach a normal distribution as $n$ increases. The amazing thing about this is that it applies to the sampling distributions of statistics that have been calculated from even highly non-normal distributions of data. Remember, also, that hypothesis testing is very much based on making inferences about such sample statistics. You're going to rely heavily on the CLT to apply frequentist (parametric) tests to answer the questions in this notebook."
   ]
  },
  {
   "cell_type": "code",
   "execution_count": 14,
   "metadata": {},
   "outputs": [],
   "source": [
    "import pandas as pd\n",
    "import numpy as np\n",
    "import matplotlib.pyplot as plt\n",
    "from scipy.stats import t\n",
    "import scipy.stats as stats\n",
    "from numpy.random import seed\n",
    "medical = pd.read_csv('C:/Users/ASHRITHA/Downloads/1566320787_Bootstrap_Inference_Mini-Project8.19 (2)/Bootstrap_Inference_Mini-Project8.19/data/insurance2.csv')"
   ]
  },
  {
   "cell_type": "code",
   "execution_count": 15,
   "metadata": {},
   "outputs": [
    {
     "data": {
      "text/plain": [
       "(1338, 8)"
      ]
     },
     "execution_count": 15,
     "metadata": {},
     "output_type": "execute_result"
    }
   ],
   "source": [
    "medical.shape"
   ]
  },
  {
   "cell_type": "code",
   "execution_count": 16,
   "metadata": {},
   "outputs": [
    {
     "data": {
      "text/html": [
       "<div>\n",
       "<style scoped>\n",
       "    .dataframe tbody tr th:only-of-type {\n",
       "        vertical-align: middle;\n",
       "    }\n",
       "\n",
       "    .dataframe tbody tr th {\n",
       "        vertical-align: top;\n",
       "    }\n",
       "\n",
       "    .dataframe thead th {\n",
       "        text-align: right;\n",
       "    }\n",
       "</style>\n",
       "<table border=\"1\" class=\"dataframe\">\n",
       "  <thead>\n",
       "    <tr style=\"text-align: right;\">\n",
       "      <th></th>\n",
       "      <th>age</th>\n",
       "      <th>sex</th>\n",
       "      <th>bmi</th>\n",
       "      <th>children</th>\n",
       "      <th>smoker</th>\n",
       "      <th>region</th>\n",
       "      <th>charges</th>\n",
       "      <th>insuranceclaim</th>\n",
       "    </tr>\n",
       "  </thead>\n",
       "  <tbody>\n",
       "    <tr>\n",
       "      <td>0</td>\n",
       "      <td>19</td>\n",
       "      <td>0</td>\n",
       "      <td>27.900</td>\n",
       "      <td>0</td>\n",
       "      <td>1</td>\n",
       "      <td>3</td>\n",
       "      <td>16884.92400</td>\n",
       "      <td>1</td>\n",
       "    </tr>\n",
       "    <tr>\n",
       "      <td>1</td>\n",
       "      <td>18</td>\n",
       "      <td>1</td>\n",
       "      <td>33.770</td>\n",
       "      <td>1</td>\n",
       "      <td>0</td>\n",
       "      <td>2</td>\n",
       "      <td>1725.55230</td>\n",
       "      <td>1</td>\n",
       "    </tr>\n",
       "    <tr>\n",
       "      <td>2</td>\n",
       "      <td>28</td>\n",
       "      <td>1</td>\n",
       "      <td>33.000</td>\n",
       "      <td>3</td>\n",
       "      <td>0</td>\n",
       "      <td>2</td>\n",
       "      <td>4449.46200</td>\n",
       "      <td>0</td>\n",
       "    </tr>\n",
       "    <tr>\n",
       "      <td>3</td>\n",
       "      <td>33</td>\n",
       "      <td>1</td>\n",
       "      <td>22.705</td>\n",
       "      <td>0</td>\n",
       "      <td>0</td>\n",
       "      <td>1</td>\n",
       "      <td>21984.47061</td>\n",
       "      <td>0</td>\n",
       "    </tr>\n",
       "    <tr>\n",
       "      <td>4</td>\n",
       "      <td>32</td>\n",
       "      <td>1</td>\n",
       "      <td>28.880</td>\n",
       "      <td>0</td>\n",
       "      <td>0</td>\n",
       "      <td>1</td>\n",
       "      <td>3866.85520</td>\n",
       "      <td>1</td>\n",
       "    </tr>\n",
       "  </tbody>\n",
       "</table>\n",
       "</div>"
      ],
      "text/plain": [
       "   age  sex     bmi  children  smoker  region      charges  insuranceclaim\n",
       "0   19    0  27.900         0       1       3  16884.92400               1\n",
       "1   18    1  33.770         1       0       2   1725.55230               1\n",
       "2   28    1  33.000         3       0       2   4449.46200               0\n",
       "3   33    1  22.705         0       0       1  21984.47061               0\n",
       "4   32    1  28.880         0       0       1   3866.85520               1"
      ]
     },
     "execution_count": 16,
     "metadata": {},
     "output_type": "execute_result"
    }
   ],
   "source": [
    "medical.head()"
   ]
  },
  {
   "cell_type": "markdown",
   "metadata": {},
   "source": [
    "**Q: Plot the histogram of charges and calculate the mean and standard deviation. Comment on the appropriateness of these statistics for the data.\n",
    "\n",
    "A: The Mean Amount the hospital charged is 13270. And As we see the Standard Deviation is 12110. The Dispersion between data points are high."
   ]
  },
  {
   "cell_type": "code",
   "execution_count": 17,
   "metadata": {},
   "outputs": [
    {
     "name": "stdout",
     "output_type": "stream",
     "text": [
      "Mean -  13270.422265141257 | Standard Deviation -  12110.011236694001\n"
     ]
    }
   ],
   "source": [
    "charges = medical['charges']\n",
    "lengthCharges = len(charges)-1\n",
    "sampleMean = np.mean(charges)\n",
    "sampleStd = np.sqrt(np.sum((charges-sampleMean)**2)/lengthCharges)\n",
    "print ('Mean - ', sampleMean,'| Standard Deviation - ', sampleStd)"
   ]
  },
  {
   "cell_type": "code",
   "execution_count": 18,
   "metadata": {},
   "outputs": [
    {
     "data": {
      "image/png": "[encoded data removed]",
      "text/plain": [
       "<Figure size 432x288 with 1 Axes>"
      ]
     },
     "metadata": {
      "needs_background": "light"
     },
     "output_type": "display_data"
    }
   ],
   "source": [
    "_ = plt.hist(charges)\n",
    "_ = plt.xlabel('Amount in (INR)')\n",
    "_ = plt.ylabel('Frequencies of Amount')\n",
    "plt.show()"
   ]
  },
  {
   "cell_type": "markdown",
   "metadata": {},
   "source": [
    "**Q: The administrator is concerned that the actual average charge has fallen below 12000, threatening the hospital's operational model. On the assumption that these data represent a random sample of charges, how would you justify that these data allow you to answer that question? And what would be the most appropriate frequentist test, of the ones discussed so far, to apply?\n",
    "\n",
    "A: Here, As we know Mean and Standard Deviation of the Random Sample. We can Calculate the Confidence Interval, And We justify it by saying, The True mean value of Population lies in the range of -x to +x. (x - value of charge) with 95% Confidence Interval.\n",
    "\n",
    "**Q: Given the nature of the administrator's concern, what is the appropriate confidence interval in this case? A one-sided or two-sided interval? Calculate the critical value and the relevant 95% confidence interval for the mean and comment on whether the administrator should be concerned?\n",
    "\n",
    "A: By Analysing the statement made by administrator, he says the $\\mu $ < 12000. It is a one sided Truncated Interval. Where the Significance level $\\alpha $= -.05. For the 95% Confidence Interval.\n",
    "\n"
   ]
  },
  {
   "cell_type": "code",
   "execution_count": 20,
   "metadata": {},
   "outputs": [
    {
     "name": "stdout",
     "output_type": "stream",
     "text": [
      "12621.530054682518 13919.314475599995\n"
     ]
    }
   ],
   "source": [
    "standardError = sampleStd/np.sqrt(len(charges))\n",
    "marginOfError = 1.96*standardError\n",
    "Intervalfirst = sampleMean-marginOfError\n",
    "Intervallast = sampleMean+marginOfError\n",
    "print (Intervalfirst, Intervallast)\n"
   ]
  },
  {
   "cell_type": "markdown",
   "metadata": {},
   "source": [
    "The administrator then wants to know whether people with insurance really are charged a different amount to those without.\n",
    "\n",
    "**Q: State the null and alternative hypothesis here. Use the t-test for the difference between means where the pooled standard deviation of the two groups is given by$$\n",
    "s_p = \\sqrt{\\frac{(n_0 - 1)s^2_0 + (n_1 - 1)s^2_1}{n_0 + n_1 - 2}}\n",
    "$$\n",
    "\n",
    "and the t test statistic is then given by\n",
    "\n",
    "$$\n",
    "t = \\frac{\\bar{x}_0 - \\bar{x}_1}{s_p \\sqrt{1/n_0 + 1/n_1}}.\n",
    "$$\n",
    "What assumption about the variances of the two groups are we making here?\n",
    "\n",
    "Hypothesis for the above problem :\n",
    "\n",
    "$\\hat \\theta$ = $\\bar x_0$ - $\\bar x_1$\n",
    "\n",
    "$\\hat \\theta$- Statistic measure to test the Hypothesis. $\\theta$ - Population Parameter measure of Hypothesis. $\\bar x_0$ - Mean of group Insurance With Charges. $\\bar x_1$ - Mean of group Insurance Without Charges.\n",
    "\n",
    "$$H_0: \\theta = 0$$$$H_1: \\theta  \\ne 0$$\n"
   ]
  },
  {
   "cell_type": "code",
   "execution_count": 21,
   "metadata": {},
   "outputs": [
    {
     "name": "stdout",
     "output_type": "stream",
     "text": [
      "No. Of Charges for with Insurance 783\n",
      "No. Of Charges for without Insurance 555\n",
      "\n",
      "\n",
      "Mean Charges for with Insurance 16423.928276537663\n",
      "Mean Charges for without Insurance 8821.421892306294\n",
      "Mean Difference between the groups 7602.506384231368\n",
      "\n",
      "\n",
      "Variance for with Insurance 197036140.77172482\n",
      "Variance for without Insurance 41482614.44965368\n",
      "Variance Difference between the groups 155553526.32207114\n"
     ]
    }
   ],
   "source": [
    "medical.head()\n",
    "InsuranceWith = medical.loc[medical[\"insuranceclaim\"]==1, \"charges\"]\n",
    "InsuranceWithout = medical.loc[medical[\"insuranceclaim\"]==0, \"charges\"]\n",
    "\n",
    "n0 = len(InsuranceWith)\n",
    "n1 = len(InsuranceWithout)\n",
    "\n",
    "x0 = np.mean(InsuranceWith)\n",
    "x1 = np.mean(InsuranceWithout)\n",
    "\n",
    "s0 = np.var(InsuranceWith)\n",
    "s1 = np.var(InsuranceWithout)\n",
    "\n",
    "print ('No. Of Charges for with Insurance', n0)\n",
    "print ('No. Of Charges for without Insurance', n1)\n",
    "print ('\\n')\n",
    "print ('Mean Charges for with Insurance', x0)\n",
    "print ('Mean Charges for without Insurance', x1)\n",
    "print ('Mean Difference between the groups', x0-x1)\n",
    "print ('\\n')\n",
    "print ('Variance for with Insurance', s0)\n",
    "print ('Variance for without Insurance', s1)\n",
    "print ('Variance Difference between the groups', s0-s1)\n"
   ]
  },
  {
   "cell_type": "code",
   "execution_count": 22,
   "metadata": {},
   "outputs": [
    {
     "data": {
      "text/plain": [
       "11512.282899205744"
      ]
     },
     "execution_count": 22,
     "metadata": {},
     "output_type": "execute_result"
    }
   ],
   "source": [
    "InsuranceWithVal = (n0-1)*s0\n",
    "InsuranceWithoutVal = (n1-1)*s1\n",
    "\n",
    "DivideBy = (n0+n1)-2\n",
    "\n",
    "pooledStd = np.sqrt((InsuranceWithVal+InsuranceWithoutVal)/DivideBy)\n",
    "pooledStd\n"
   ]
  },
  {
   "cell_type": "code",
   "execution_count": 23,
   "metadata": {},
   "outputs": [
    {
     "data": {
      "text/plain": [
       "11.901306943555385"
      ]
     },
     "execution_count": 23,
     "metadata": {},
     "output_type": "execute_result"
    }
   ],
   "source": [
    "# To get the t-test\n",
    "tStatistic = (x0-x1)/(pooledStd*np.sqrt(1/n0+1/n1))\n",
    "tStatistic"
   ]
  },
  {
   "cell_type": "markdown",
   "metadata": {},
   "source": [
    "**A:\n",
    "\n",
    "**Q: Perform this hypothesis test both manually, using the above formulae, and then using the appropriate function from scipy.stats (hint, you're looking for a function to perform a t-test on two independent samples). For the manual approach, calculate the value of the test statistic and then its probability (the p-value). Verify you get the same results from both.\n",
    "\n",
    "**A:"
   ]
  },
  {
   "cell_type": "code",
   "execution_count": 24,
   "metadata": {},
   "outputs": [
    {
     "data": {
      "text/plain": [
       "32.740474896009275"
      ]
     },
     "execution_count": 24,
     "metadata": {},
     "output_type": "execute_result"
    }
   ],
   "source": [
    "# Apply t-test for separate groups. With 95% Of Confidence Interval. This is a two sided \\\n",
    "#  Interval. The Significance value alpha = +-0.025. i.e Our Critical Value = +-1.96\n",
    "\n",
    "standardErrorG1 = np.sqrt(np.var(InsuranceWith)/len(InsuranceWith))\n",
    "tG1 = x0/standardErrorG1\n",
    "tG1\n"
   ]
  },
  {
   "cell_type": "code",
   "execution_count": 25,
   "metadata": {},
   "outputs": [
    {
     "data": {
      "text/plain": [
       "32.26651228055835"
      ]
     },
     "execution_count": 25,
     "metadata": {},
     "output_type": "execute_result"
    }
   ],
   "source": [
    "standardErrorG2 = np.sqrt(np.var(InsuranceWithout)/len(InsuranceWithout))\n",
    "tG2 = x1/standardErrorG2\n",
    "tG2\n",
    "# tG1-tG2"
   ]
  },
  {
   "cell_type": "code",
   "execution_count": 26,
   "metadata": {},
   "outputs": [
    {
     "name": "stdout",
     "output_type": "stream",
     "text": [
      "4.954336943068623 4.954336943068623\n"
     ]
    }
   ],
   "source": [
    "# Practice\n",
    "\n",
    "G_1 = [i for i in range(0, 10)]\n",
    "G_2 = [i for i in range(0, 10)]\n",
    "# print (G1, G2)\n",
    "n_0 = len(G_1)\n",
    "n_1 = len(G_2)\n",
    "\n",
    "x_0 = np.mean(G_1)\n",
    "x_1 = np.mean(G_2)\n",
    "\n",
    "s_0 = np.var(G_1)\n",
    "s_1 = np.var(G_2)\n",
    "\n",
    "G_1a = (n_0-1)*s_0\n",
    "G_1b = (n_1-1)*s_1\n",
    "\n",
    "Divide_By = (n_0+n_1)-2\n",
    "\n",
    "pooled_Std = np.sqrt((G_1a+G_1b)/Divide_By)\n",
    "# pooled_Std\n",
    "\n",
    "t_Statistic = (x_0-x_1)/(pooled_Std*np.sqrt(1/n_0+1/n_1))\n",
    "t_Statistic\n",
    "\n",
    "\n",
    "# Test Separately\n",
    "standardError_G1 = np.sqrt(np.var(G_1)/n_0)\n",
    "t_G1 = x_0/standardError_G1\n",
    "t_G1\n",
    "\n",
    "\n",
    "standardError_G2 = np.sqrt(np.var(G_2)/n_1)\n",
    "t_G2 = x_1/standardError_G2\n",
    "print (t_G1, t_G2)"
   ]
  },
  {
   "cell_type": "markdown",
   "metadata": {},
   "source": [
    "Congratulations! Hopefully you got the exact same numerical results. This shows that you correctly calculated the numbers by hand. Secondly, you used the correct function and saw that it's much easier to use. All you need to do pass your data to it.\n",
    "\n",
    "Q: In the above calculations, we assumed the sample variances were equal. We may well suspect they are not (we'll explore this in another assignment). The calculation becomes a little more complicated to do by hand in this case, but we now know of a helpful function. Check the documentation for the function to tell it not to assume equal variances and perform the test again."
   ]
  },
  {
   "cell_type": "markdown",
   "metadata": {},
   "source": [
    "Q: Conceptual question: look through the documentation for statistical test functions in scipy.stats. You'll see the above t-test for a sample, but can you see an equivalent one for performing a z-test from a sample? Comment on your answer.\n",
    "\n",
    "A:\n",
    "\n",
    "**Learning outcomes\n",
    "\n",
    "Having completed this project notebook, you now have good hands-on experience:\n",
    "\n",
    "using the central limit theorem to help you apply frequentist techniques to answer questions that pertain to very non-normally distributed data from the real world\n",
    "performing inference using such data to answer business questions\n",
    "forming a hypothesis and framing the null and alternative hypotheses\n",
    "testing this using a t-test"
   ]
  }
 ],
 "metadata": {
  "kernelspec": {
   "display_name": "Python 3",
   "language": "python",
   "name": "python3"
  },
  "language_info": {
   "codemirror_mode": {
    "name": "ipython",
    "version": 3
   },
   "file_extension": ".py",
   "mimetype": "text/x-python",
   "name": "python",
   "nbconvert_exporter": "python",
   "pygments_lexer": "ipython3",
   "version": "3.7.4"
  }
 },
 "nbformat": 4,
 "nbformat_minor": 2
}
