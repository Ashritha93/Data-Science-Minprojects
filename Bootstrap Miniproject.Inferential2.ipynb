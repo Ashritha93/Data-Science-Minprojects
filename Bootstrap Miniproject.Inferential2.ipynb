{
 "cells": [
  {
   "cell_type": "markdown",
   "metadata": {},
   "source": [
    "**Inferential statistics II - Bootstrapping\n",
    "**Introduction\n",
    "\n",
    "In the previous frequentist mini-projects, you did frequentist calculations to perform inference from a sample of data. Such inference relies on theory largely developed from the 19th-Century onwards that is subject to certain assumptions or theoretical limits. These are fine if those assumptions hold for the particular case you're working on, and what you want to do has a known theoretical distribution (for example the mean of a sampling distribution that we looked at in the previous mini-project.)\n",
    "\n",
    "In this mini-project, you'll use the same medical charge data you used in the frequentist inference mini-project, but this time you'll make inferences about the population using bootstrapping (ie. simulating repeated re-runs of an experiment.) If frequentism is about using assumptions and theoretical results to calculate what we expect to happen were an experiment to be run again and again and again, then bootstrapping is about using computing power to essentially re-run the sample draw again and again and again to see what actually happens.\n",
    "\n",
    "**Prerequisites\n",
    "While these exercises do not strictly depend on these concepts, we encourage you to complete the previous mini-projects before starting this one so that you can approach this assignment with a good understanding of frequentist concepts like:\n",
    "\n",
    "the z-statistic\n",
    "the t-statistic\n",
    "the difference and relationship between the two\n",
    "the Central Limit Theorem, its assumptions and consequences\n",
    "how to estimate the population mean and standard deviation from a sample\n",
    "the concept of a sampling distribution of a test statistic, particularly for the mean\n",
    "how to combine these concepts to calculate confidence intervals and p-values\n",
    "how those confidence intervals and p-values allow you to perform hypothesis (or A/B) tests\n",
    "To complete mini-project, it's important that you first complete the bootstrap resources listed in this subunit, as they contain valuable information about how to calculate bootstrap replicates of summary statistics. Having an basic understanding of what confidence intervals and p-values are will also be helpful (we touch on them in this mini-project, but please speak to your mentor or conduct individual research if you'd like to learn more.)\n",
    "\n"
   ]
  },
  {
   "cell_type": "code",
   "execution_count": 1,
   "metadata": {},
   "outputs": [],
   "source": [
    "import pandas as pd\n",
    "import numpy as np\n",
    "from numpy.random import seed\n",
    "import matplotlib.pyplot as plt\n",
    "import scipy.stats\n",
    "import seaborn as sns\n",
    "from IPython.core.pylabtools import figsize"
   ]
  },
  {
   "cell_type": "markdown",
   "metadata": {},
   "source": [
    "**Medical charge data set"
   ]
  },
  {
   "cell_type": "code",
   "execution_count": 2,
   "metadata": {},
   "outputs": [],
   "source": [
    "med_charges = pd.read_csv('C:/Users/ASHRITHA/Downloads/1566320787_Bootstrap_Inference_Mini-Project8.19 (3)/Bootstrap_Inference_Mini-Project8.19/data/insurance2.csv')"
   ]
  },
  {
   "cell_type": "code",
   "execution_count": 3,
   "metadata": {},
   "outputs": [
    {
     "data": {
      "text/html": [
       "<div>\n",
       "<style scoped>\n",
       "    .dataframe tbody tr th:only-of-type {\n",
       "        vertical-align: middle;\n",
       "    }\n",
       "\n",
       "    .dataframe tbody tr th {\n",
       "        vertical-align: top;\n",
       "    }\n",
       "\n",
       "    .dataframe thead th {\n",
       "        text-align: right;\n",
       "    }\n",
       "</style>\n",
       "<table border=\"1\" class=\"dataframe\">\n",
       "  <thead>\n",
       "    <tr style=\"text-align: right;\">\n",
       "      <th></th>\n",
       "      <th>age</th>\n",
       "      <th>sex</th>\n",
       "      <th>bmi</th>\n",
       "      <th>children</th>\n",
       "      <th>smoker</th>\n",
       "      <th>region</th>\n",
       "      <th>charges</th>\n",
       "      <th>insuranceclaim</th>\n",
       "    </tr>\n",
       "  </thead>\n",
       "  <tbody>\n",
       "    <tr>\n",
       "      <td>0</td>\n",
       "      <td>19</td>\n",
       "      <td>0</td>\n",
       "      <td>27.900</td>\n",
       "      <td>0</td>\n",
       "      <td>1</td>\n",
       "      <td>3</td>\n",
       "      <td>16884.92400</td>\n",
       "      <td>1</td>\n",
       "    </tr>\n",
       "    <tr>\n",
       "      <td>1</td>\n",
       "      <td>18</td>\n",
       "      <td>1</td>\n",
       "      <td>33.770</td>\n",
       "      <td>1</td>\n",
       "      <td>0</td>\n",
       "      <td>2</td>\n",
       "      <td>1725.55230</td>\n",
       "      <td>1</td>\n",
       "    </tr>\n",
       "    <tr>\n",
       "      <td>2</td>\n",
       "      <td>28</td>\n",
       "      <td>1</td>\n",
       "      <td>33.000</td>\n",
       "      <td>3</td>\n",
       "      <td>0</td>\n",
       "      <td>2</td>\n",
       "      <td>4449.46200</td>\n",
       "      <td>0</td>\n",
       "    </tr>\n",
       "    <tr>\n",
       "      <td>3</td>\n",
       "      <td>33</td>\n",
       "      <td>1</td>\n",
       "      <td>22.705</td>\n",
       "      <td>0</td>\n",
       "      <td>0</td>\n",
       "      <td>1</td>\n",
       "      <td>21984.47061</td>\n",
       "      <td>0</td>\n",
       "    </tr>\n",
       "    <tr>\n",
       "      <td>4</td>\n",
       "      <td>32</td>\n",
       "      <td>1</td>\n",
       "      <td>28.880</td>\n",
       "      <td>0</td>\n",
       "      <td>0</td>\n",
       "      <td>1</td>\n",
       "      <td>3866.85520</td>\n",
       "      <td>1</td>\n",
       "    </tr>\n",
       "  </tbody>\n",
       "</table>\n",
       "</div>"
      ],
      "text/plain": [
       "   age  sex     bmi  children  smoker  region      charges  insuranceclaim\n",
       "0   19    0  27.900         0       1       3  16884.92400               1\n",
       "1   18    1  33.770         1       0       2   1725.55230               1\n",
       "2   28    1  33.000         3       0       2   4449.46200               0\n",
       "3   33    1  22.705         0       0       1  21984.47061               0\n",
       "4   32    1  28.880         0       0       1   3866.85520               1"
      ]
     },
     "execution_count": 3,
     "metadata": {},
     "output_type": "execute_result"
    }
   ],
   "source": [
    "med_charges.head()\n"
   ]
  },
  {
   "cell_type": "markdown",
   "metadata": {},
   "source": [
    "In the previous assignment, you used the frequentist approach to estimate the lower limit for the 95% confidence interval on the mean hospital charge. This approach relies on statistical theory that has been developed over the years and is also limited to statistics for which theoretical results on the sampling distribution exist. These results are remarkably useful and applicable much of the time and under a surprisingly wide range of conditions.\n",
    "\n",
    "Having calculated the 95% lower confidence interval using frequentist theory in the previous exercise, you'll now use bootstrap inference to verify your calculations and check that you get consistent results without making the assumptions required before. After all, the distribution of charges really was very non-normal.\n",
    "\n",
    "**Q: Use bootstrap sampling to estimate the same 95% confidence interval lower limit as before.\n",
    "\n",
    "A:"
   ]
  },
  {
   "cell_type": "code",
   "execution_count": 4,
   "metadata": {},
   "outputs": [
    {
     "data": {
      "text/plain": [
       "array([12624.86211913, 13918.00929997])"
      ]
     },
     "execution_count": 4,
     "metadata": {},
     "output_type": "execute_result"
    }
   ],
   "source": [
    "np.random.seed(47)\n",
    "med_charge_mean = med_charges.charges.mean()\n",
    "med_charge_std = np.std(med_charges.charges,ddof=1)\n",
    "bootstraped = [med_charges.charges.sample(len(med_charges.charges),replace=True).mean() for i in range (10000)]\n",
    "np.percentile(bootstraped,[2.5,97.5])"
   ]
  },
  {
   "cell_type": "markdown",
   "metadata": {},
   "source": [
    "If you performed 10000 replicates immediately after setting the random seed to 47, you should get the value 12724 here, which compares very well with the value 12725 obtained using the t-distribution confidence interval previously. It is a most pleasant result to see the predictions of classical frequentist theory match with results that are now possible through the number-crunching ability of computers.\n",
    "\n",
    "Remember, in the previous mini-projects, we saw that there are two ways of performing a t-test from a sample, depending on whether we can assume the groups have equal variance or not. We can actually easily test this using the bootstrap approach!\n",
    "\n",
    "** Q: Calculate the 95% confidence interval for the difference between the standard deviations of insurance and non-insurance claim charges (insured - non-insured). Calculate the differences over 10000 replicates. Plot the histogram of values and mark the locations of the percentiles. State the null and alternative hypothesis and comment on whether you would retain or reject the null hypothesis in this case and why.\n",
    "\n",
    "A:H0: There is no difference between payments of insured vs uninsured chagres. H1 : There is difference between insured uninsured charges\n",
    "\n",
    "Under assumption that there is no difference, then the difference betwwen std must be zero which is not the case 95% interval calculated, and therefore we reject null hypothesis."
   ]
  },
  {
   "cell_type": "code",
   "execution_count": 5,
   "metadata": {},
   "outputs": [],
   "source": [
    "bootstraped_std = np.empty(10000)\n",
    "#std_with_insurance = np.std(with_insurance_charges,ddof=1)\n",
    "#std_without_insurance = np.std(without_insurance_charges,ddof=1)\n",
    "for i in range(10000):\n",
    "    with_insurance_charges = med_charges.charges[med_charges.insuranceclaim==1].sample(1000,replace=True)\n",
    "    without_insurance_charges = med_charges.charges[med_charges.insuranceclaim==0].sample(770,replace=True)\n",
    "    std_with_insurance = np.std(with_insurance_charges,ddof=1)\n",
    "    std_without_insurance = np.std(without_insurance_charges,ddof=1)\n",
    "    #var_diff = with_insurance_charges.var() + without_insurance_charges.var()\n",
    "    bootstraped_std[i] = np.sqrt((((len(with_insurance_charges)-1)*(std_with_insurance**2))+((len(without_insurance_charges)-1)*(std_without_insurance**2)))/(len(with_insurance_charges)+len(without_insurance_charges)-2))"
   ]
  },
  {
   "cell_type": "code",
   "execution_count": 6,
   "metadata": {},
   "outputs": [
    {
     "data": {
      "text/plain": [
       "array([10923.02954094, 11801.98324909])"
      ]
     },
     "execution_count": 6,
     "metadata": {},
     "output_type": "execute_result"
    }
   ],
   "source": [
    "conf_int_std_diffrences = np.percentile(bootstraped_std,[2.5,97.5])\n",
    "conf_int_std_diffrences"
   ]
  },
  {
   "cell_type": "code",
   "execution_count": 7,
   "metadata": {},
   "outputs": [
    {
     "data": {
      "text/plain": [
       "<matplotlib.legend.Legend at 0x19a3db47508>"
      ]
     },
     "execution_count": 7,
     "metadata": {},
     "output_type": "execute_result"
    },
    {
     "data": {
      "image/png": "[encoded data removed]",
      "text/plain": [
       "<Figure size 900x288 with 1 Axes>"
      ]
     },
     "metadata": {},
     "output_type": "display_data"
    }
   ],
   "source": [
    "sns.set()\n",
    "figsize(12.5,4)\n",
    "#plt.hist(bootstraped_std,histtype='step')\n",
    "sns.distplot(bootstraped_std,kde=False)\n",
    "plt.axvline(conf_int_std_diffrences[0],color='green',label='95 % CI lower intevrval') # lower interval\n",
    "plt.axvline(conf_int_std_diffrences[1],color='red',label='95 % CI higher intevrval') # higher interval\n",
    "plt.xlabel('Difference of insured and non insured')\n",
    "plt.ylabel('Count')\n",
    "plt.title('Std difference graph')\n",
    "plt.legend()\n"
   ]
  },
  {
   "cell_type": "markdown",
   "metadata": {},
   "source": [
    "**Confidence interval and p-value\n",
    "\n",
    "The confidence interval above is often a useful quantity to estimate. If we wish to limit our expected probability of making a Type I error (where we wrongly reject the null hypothesis, and it is, instead, true) to $\\alpha$, the associated confidence interval is our estimate of the interval within which we expect the true population value to be found $100\\times(1 - \\alpha)$% of the time we do this test. In the above we performed bootstrap replicates to estimate the interval and reject the null hypothesis if this interval did not contain zero. You will sometimes see such an interval reported in the output of statistical functions.\n",
    "\n",
    "The partner of the confidence interval is the p-value. The p-value and the confidence interval are linked through our choice of $\\alpha$. The p-value tells us how likely it is, under the null hypothesis, to get an outcome at least as extreme as what was observed. If this fails to reach the level of our pre-specified $\\alpha$, we decide the null hypothesis is sufficiently unlikely to be true and thus reject it. To calculate this p-value via the bootstrap, we have to put ourselves in a position where we are simulating the null hypothesis being true and then calculate the fraction of times we observe a result at least as extreme as that actually observed.\n",
    "\n",
    "Remember how, previously, you used the t-test to calculate the p-value for the observed difference between the means of insured and non-insured medical cases. We're now going to repeat this, this time using the bootstrap approach.\n",
    "\n",
    "**Q: Perform a bootstrapped hypothesis test at the 5% significance level ($\\alpha = 0.05$) to calculate the p-value of the observed difference between insurance and non-insurance charges, state your null and alternative hypotheses and whether you retain or reject the null hypothesis for the given significance level.\n",
    "\n",
    "A:With p value = 0.0, it extremly rare to get observed value if we assume null hypothesis to be true. And hence reject null hypothesis.\n",
    "\n"
   ]
  },
  {
   "cell_type": "code",
   "execution_count": 8,
   "metadata": {},
   "outputs": [
    {
     "data": {
      "text/plain": [
       "7602.506384231368"
      ]
     },
     "execution_count": 8,
     "metadata": {},
     "output_type": "execute_result"
    }
   ],
   "source": [
    "obs_mean_diff = med_charges.charges[med_charges.insuranceclaim==1].mean() - med_charges.charges[med_charges.insuranceclaim==0].mean()\n",
    "obs_mean_diff"
   ]
  },
  {
   "cell_type": "code",
   "execution_count": 9,
   "metadata": {},
   "outputs": [],
   "source": [
    "np.random.seed(47)\n",
    "med_charge_mean = med_charges.charges.mean()\n",
    "mean_withInsurance = med_charges.charges[med_charges.insuranceclaim==1].mean()\n",
    "mean_withOutInsuarnce = med_charges.charges[med_charges.insuranceclaim==0].mean()\n",
    "data_withIsurance = med_charges.charges[med_charges.insuranceclaim==1] - mean_withInsurance + med_charge_mean\n",
    "data_withOutInsurance = med_charges.charges[med_charges.insuranceclaim==0] - mean_withOutInsuarnce + med_charge_mean\n",
    "bootstrap_meansWithInsurance = [data_withIsurance.sample(1000,replace=True).mean() for i in range(10000)]\n",
    "bootstrap_meansWithOutInsurance = [data_withOutInsurance.sample(1000,replace=True).mean() for i in range(10000)]"
   ]
  },
  {
   "cell_type": "code",
   "execution_count": 10,
   "metadata": {},
   "outputs": [
    {
     "data": {
      "text/plain": [
       "0.0"
      ]
     },
     "execution_count": 10,
     "metadata": {},
     "output_type": "execute_result"
    }
   ],
   "source": [
    "diff_means_bootstrapped = np.array(bootstrap_meansWithInsurance) - np.array(bootstrap_meansWithOutInsurance)\n",
    "np.sum(diff_means_bootstrapped>=obs_mean_diff)/len(diff_means_bootstrapped)\n"
   ]
  },
  {
   "cell_type": "code",
   "execution_count": 11,
   "metadata": {},
   "outputs": [
    {
     "data": {
      "text/plain": [
       "array([-933.8018543 ,  973.05786828])"
      ]
     },
     "execution_count": 11,
     "metadata": {},
     "output_type": "execute_result"
    }
   ],
   "source": [
    "confidance = np.percentile(diff_means_bootstrapped,[2.5,97.5])\n",
    "confidance\n"
   ]
  },
  {
   "cell_type": "markdown",
   "metadata": {},
   "source": [
    "**Q: To put the above result in perspective, plot the histogram of your bootstrapped differences along with lines marking the locations of the observed difference. (Why would we plot more than one line, given that we only have one observed difference?)\n",
    "\n",
    "A:"
   ]
  },
  {
   "cell_type": "code",
   "execution_count": 12,
   "metadata": {},
   "outputs": [
    {
     "data": {
      "text/plain": [
       "<matplotlib.legend.Legend at 0x19a3ddf93c8>"
      ]
     },
     "execution_count": 12,
     "metadata": {},
     "output_type": "execute_result"
    },
    {
     "data": {
      "image/png": "[encoded data removed]",
      "text/plain": [
       "<Figure size 900x288 with 1 Axes>"
      ]
     },
     "metadata": {},
     "output_type": "display_data"
    }
   ],
   "source": [
    "plt.hist(diff_means_bootstrapped)\n",
    "plt.axvline(obs_mean_diff,color='orange') # observed mean difference\n",
    "sns.set()\n",
    "figsize(12.5,4)\n",
    "sns.distplot(bootstraped_std,kde=False)\n",
    "plt.axvline(obs_mean_diff,color='green',label='+ve limit')\n",
    "plt.axvline(-obs_mean_diff,color='red',label='-ve limit')\n",
    "plt.xlabel('Difference of means insured and non insured')\n",
    "plt.ylabel('Count')\n",
    "plt.title('Mean difference graph')\n",
    "plt.legend()"
   ]
  },
  {
   "cell_type": "markdown",
   "metadata": {},
   "source": [
    "**Q: Compare your p-value above with that obtained using the t-test function in the previous assignment. Do you think you would want to try to perform enough bootstrap replicates to observe a random difference as large as that we did observe?\n",
    "\n",
    "A:We see a p value of zero for the above bootstrapped value for 10000 replicates. This does not mean that its impossible, but just that 10000 replicates arent enough to get a value as extreme that we got.\n",
    "\n",
    "**Q: Consider the two variants of the t-test we performed in the previous assignment. Which one would you use now?\n",
    "\n",
    "A:We could with bootstraping as it would reduce sample bias and will have a more realistic outcome.\n",
    "\n",
    "**Q: If, instead of being asked whether the means of two groups were different, you were working with an ad-recommender team who wanted to release a new recommendation algorithm, and you were looking at click-through rate both for the current algorithm (call it A) and from trials of their new algorithm (call it B), would you perform a two-sided test as above? What would be your null and alternative hypotheses and what would be the real-world consequence of rejecting the null hypothesis?\n",
    "\n",
    "A:Performing an one sided test H0: conversion rate of A is better than B i. e Ca >= Cb H1 : conversion rate of B is greater than A i .e Cb>Ca"
   ]
  },
  {
   "cell_type": "markdown",
   "metadata": {},
   "source": [
    "**Learning outcomes\n",
    "You've previously applied frequentist methods to calculate confidence intervals, p-values, and perform hypothesis tests. Frequentist methods use theoretical results to calculate what we expect would happen if experiments were to be run again and again and again. Now you've seen how you can do the same things using the bootstrap approach, which does not rely on such theory, and attendant assumptions, but instead literally does run experiments again and again and again.\n",
    "\n",
    "In these exercises, you have:\n",
    "\n",
    "1.calculated the same confidence interval lower limit as you did previously\n",
    "2.tested the assumption that the variances of the two groups (insured vs. non-insured) were equal - something a bit harder to do using the frequentist method because of the nature of the sampling distribution for variance\n",
    "3.calculated the p-value for the difference between the means of the two groups and compared with the result obtained using the previous frequentist approach\n",
    "You are now well equipped to apply the bootstrap approach to a wide variety of problems. Just think about what conditions you wish to recreate in your simulated reruns."
   ]
  }
 ],
 "metadata": {
  "kernelspec": {
   "display_name": "Python 3",
   "language": "python",
   "name": "python3"
  },
  "language_info": {
   "codemirror_mode": {
    "name": "ipython",
    "version": 3
   },
   "file_extension": ".py",
   "mimetype": "text/x-python",
   "name": "python",
   "nbconvert_exporter": "python",
   "pygments_lexer": "ipython3",
   "version": "3.7.4"
  }
 },
 "nbformat": 4,
 "nbformat_minor": 2
}
