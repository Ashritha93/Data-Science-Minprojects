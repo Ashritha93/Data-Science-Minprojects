{
 "cells": [
  {
   "cell_type": "markdown",
   "metadata": {},
   "source": [
    "## Context\n",
    "I was always fascinated by the food culture of Bengaluru. Restaurants from all over the world can be found here in Bengaluru. From United States to Japan, Russia to Antartica, you get all type of cuisines here. Delivery, Dine-out, Pubs, Bars, Drinks,Buffet, Desserts you name it and Bengaluru has it. Bengaluru is best place for foodies. The number of restaurant are increasing day by day. Currently which stands at approximately 12,000 restaurants. With such an high number of restaurants. \n",
    "This industry hasn't been saturated yet. And new restaurants are opening every day. However it has become difficult for them .\n",
    "compete with already established restaurants. The key issues that continue to pose a challenge to them include high real estate costs, rising food costs, shortage of quality manpower, fragmented supply chain and over-licensing. This Zomato data aims at analysing demography of the location. Most importantly it will help new restaurants in deciding their theme, menus, cuisine, cost etc for a particular location. It also aims at finding similarity between neighborhoods of Bengaluru on the basis of food. The dataset also contains reviews for each of the restaurant which will help in finding overall rating for the place."
   ]
  },
  {
   "cell_type": "markdown",
   "metadata": {},
   "source": [
    "## Content\n",
    "The basic idea of analyzing the Zomato dataset is to get a fair idea about the factors affecting the establishment\n",
    "of different types of restaurant at different places in Bengaluru, aggregate rating of each restaurant, Bengaluru\n",
    "being one such city has more than 12,000 restaurants with restaurants serving dishes from all over the world.\n",
    "With each day new restaurants opening the industry has’nt been saturated yet and the demand is increasing\n",
    "day by day. Inspite of increasing demand it however has become difficult for new restaurants to compete with\n",
    "established restaurants. Most of them serving the same food. Bengaluru being an IT capital of India. Most of\n",
    "the people here are dependent mainly on the restaurant food as they don’t have time to cook for themselves.\n",
    "With such an overwhelming demand of restaurants it has therefore become important to study the demography\n",
    "of a location. What kind of a food is more popular in a locality. Do the entire locality loves vegetarian food.\n",
    "If yes then is that locality populated by a particular sect of people for eg. Jain, Marwaris, Gujaratis who are\n",
    "mostly vegetarian. These kind of analysis can be done using the data, by studying the factors such as\n",
    "# 1.Restaurants delivering Online or not\n",
    "# 2.Restaurants allowing table booking or not\n",
    "# 3.Table booking Rate vs Rate\n",
    "# 4.Best Location\n",
    "# 5.Relation between Location and Rating\n",
    "# 6.Restaurant Type\n",
    "# 7.Gaussian Rest type and Rating\n",
    "# 8.Types of Services\n",
    "# 9.Relation between Type and Rating\n",
    "# 10.Cost of Restuarant\n",
    "# 11.No. of restaurants in a Location\n",
    "# 12.Restaurant type\n",
    "# 13.Most famous restaurant chains in Bengaluru\n"
   ]
  },
  {
   "cell_type": "markdown",
   "metadata": {},
   "source": [
    "“Just so that you have a good meal the next time you step out”\n",
    "\n",
    "The data is accurate to that available on the zomato website until 15 March 2019.\n",
    "The data was scraped from Zomato in two phase. After going through the structure of the website I found that for each neighborhood there are 6-7 category of restaurants viz. Buffet, Cafes, Delivery, Desserts, Dine-out, Drinks & nightlife, Pubs and bars.\n",
    "\n"
   ]
  },
  {
   "cell_type": "markdown",
   "metadata": {},
   "source": [
    "Phase I,\n",
    "\n",
    "In Phase I of extraction only the URL, name and address of the restaurant were extracted which were visible on the front page. The URl's for each of the restaurants on the zomato were recorded in the csv file so that later the data can be extracted individually for each restaurant. This made the extraction process easier and reduced the extra load on my machine. The data for each neighborhood and each category can be found here\n",
    "\n"
   ]
  },
  {
   "cell_type": "markdown",
   "metadata": {},
   "source": [
    "In Phase II the recorded data for each restaurant and each category was read and data for each restaurant was scraped individually. 15 variables were scraped in this phase. For each of the neighborhood and for each category their onlineorder, booktable, rate, votes, phone, location, resttype, dishliked, cuisines, approxcost(for two people), reviewslist, menu_item was extracted. \n",
    "\n"
   ]
  },
  {
   "cell_type": "markdown",
   "metadata": {},
   "source": [
    "## Acknowledgements\n",
    "The data scraped was entirely for educational purposes only. Note that I don’t claim any copyright for the data. All copyrights for the data is owned by Zomato Media Pvt. Ltd..\n",
    "\n"
   ]
  },
  {
   "cell_type": "markdown",
   "metadata": {},
   "source": [
    "## Inspiration\n",
    "I was always astonished by how each of the restaurants are able to keep up the pace inspite of that cutting edge competition. And what factors should be kept in mind if someone wants to open new restaurant. Does the demography of an area matters? Does location of a particular type of restaurant also depends on the people living in that area? Does the theme of the restaurant matters? Is a food chain category restaurant likely to have more customers than its counter part? Are any neighborhood similar ? If two neighborhood are similar does that mean these are related or particular group of people live in the neighborhood or these are the places to it? What kind of a food is more popular in a locality. Do the entire locality loves vegetarian food. If yes then is that locality populated by a particular sect of people for eg. Jain, Marwaris, Gujaratis who are mostly vegetarian. There are infacts dozens of question in my mind. lets try to find out the answer with this dataset.\n",
    "\n"
   ]
  },
  {
   "cell_type": "code",
   "execution_count": null,
   "metadata": {},
   "outputs": [],
   "source": []
  }
 ],
 "metadata": {
  "kernelspec": {
   "display_name": "Python 3",
   "language": "python",
   "name": "python3"
  },
  "language_info": {
   "codemirror_mode": {
    "name": "ipython",
    "version": 3
   },
   "file_extension": ".py",
   "mimetype": "text/x-python",
   "name": "python",
   "nbconvert_exporter": "python",
   "pygments_lexer": "ipython3",
   "version": "3.7.4"
  }
 },
 "nbformat": 4,
 "nbformat_minor": 2
}
