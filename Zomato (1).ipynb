{
 "cells": [
  {
   "cell_type": "markdown",
   "metadata": {},
   "source": [
    "Loading the Dataset\n",
    "\n"
   ]
  },
  {
   "cell_type": "code",
   "execution_count": 16,
   "metadata": {},
   "outputs": [],
   "source": [
    "##Importing Libraries\n",
    "\n",
    "import numpy as np #NumPy is a general-purpose array-processing package.\n",
    "import pandas as pd#It contains high-level data structures and manipulation tools designed to make data analysis fast and easy\n",
    "import matplotlib.pyplot as plt#It is a Plotting Library\n",
    "import seaborn as sns#Seaborn is a Python data visualization library based on matplotlib.\n",
    "from sklearn.linear_model import LogisticRegression#Logistic Regression is a Machine Learning classification algorithm\n",
    "from sklearn.linear_model import LinearRegression #Linear Regression is a Machine Learning classification algorithm\n",
    "from sklearn.model_selection import train_test_split #splitting of dataset\n",
    "from sklearn.metrics import classification_report \n",
    "from sklearn.metrics import confusion_matrix\n",
    "from sklearn.metrics import r2_score"
   ]
  },
  {
   "cell_type": "markdown",
   "metadata": {},
   "source": [
    "Reading the dataset\n",
    "\n"
   ]
  },
  {
   "cell_type": "code",
   "execution_count": 3,
   "metadata": {},
   "outputs": [
    {
     "data": {
      "text/html": [
       "<div>\n",
       "<style scoped>\n",
       "    .dataframe tbody tr th:only-of-type {\n",
       "        vertical-align: middle;\n",
       "    }\n",
       "\n",
       "    .dataframe tbody tr th {\n",
       "        vertical-align: top;\n",
       "    }\n",
       "\n",
       "    .dataframe thead th {\n",
       "        text-align: right;\n",
       "    }\n",
       "</style>\n",
       "<table border=\"1\" class=\"dataframe\">\n",
       "  <thead>\n",
       "    <tr style=\"text-align: right;\">\n",
       "      <th></th>\n",
       "      <th>URL</th>\n",
       "      <th>Address</th>\n",
       "      <th>Name</th>\n",
       "      <th>Online_order</th>\n",
       "      <th>Book_table</th>\n",
       "      <th>Rate</th>\n",
       "      <th>Votes</th>\n",
       "      <th>Phone</th>\n",
       "      <th>Location</th>\n",
       "      <th>Rest_type</th>\n",
       "      <th>Dish_liked</th>\n",
       "      <th>Cuisines</th>\n",
       "      <th>Approx_cost</th>\n",
       "      <th>Reviews_list</th>\n",
       "      <th>Menu_item</th>\n",
       "      <th>Listed_in(type)</th>\n",
       "      <th>Listed_in(city)</th>\n",
       "    </tr>\n",
       "  </thead>\n",
       "  <tbody>\n",
       "    <tr>\n",
       "      <td>0</td>\n",
       "      <td>https://www.zomato.com/bangalore/jalsa-banasha...</td>\n",
       "      <td>942, 21st Main Road, 2nd Stage, Banashankari, ...</td>\n",
       "      <td>Jalsa</td>\n",
       "      <td>Yes</td>\n",
       "      <td>Yes</td>\n",
       "      <td>4.1/5</td>\n",
       "      <td>775.0</td>\n",
       "      <td>080 42297555\\r\\n+91 9743772233</td>\n",
       "      <td>Banashankari</td>\n",
       "      <td>Casual Dining</td>\n",
       "      <td>Pasta, Lunch Buffet, Masala Papad, Paneer Laja...</td>\n",
       "      <td>North Indian, Mughlai, Chinese</td>\n",
       "      <td>?800 for two people (approx.)</td>\n",
       "      <td>[('Rated 4.0', 'RATED\\n  A beautiful place to ...</td>\n",
       "      <td>[]</td>\n",
       "      <td>buffet_restaurants</td>\n",
       "      <td>Banashankari</td>\n",
       "    </tr>\n",
       "    <tr>\n",
       "      <td>1</td>\n",
       "      <td>https://www.zomato.com/bangalore/spice-elephan...</td>\n",
       "      <td>2nd Floor, 80 Feet Road, Near Big Bazaar, 6th ...</td>\n",
       "      <td>Spice Elephant</td>\n",
       "      <td>Yes</td>\n",
       "      <td>No</td>\n",
       "      <td>4.1/5</td>\n",
       "      <td>787.0</td>\n",
       "      <td>080 41714161</td>\n",
       "      <td>Banashankari</td>\n",
       "      <td>Casual Dining</td>\n",
       "      <td>Momos, Lunch Buffet, Chocolate Nirvana, Thai G...</td>\n",
       "      <td>Chinese, North Indian, Thai</td>\n",
       "      <td>?800 for two people (approx.)</td>\n",
       "      <td>[('Rated 4.0', 'RATED\\n  Had been here for din...</td>\n",
       "      <td>[]</td>\n",
       "      <td>buffet_restaurants</td>\n",
       "      <td>Banashankari</td>\n",
       "    </tr>\n",
       "    <tr>\n",
       "      <td>2</td>\n",
       "      <td>https://www.zomato.com/SanchurroBangalore?cont...</td>\n",
       "      <td>1112, Next to KIMS Medical College, 17th Cross...</td>\n",
       "      <td>San Churro Cafe</td>\n",
       "      <td>Yes</td>\n",
       "      <td>No</td>\n",
       "      <td>3.8/5</td>\n",
       "      <td>918.0</td>\n",
       "      <td>+91 9663487993</td>\n",
       "      <td>Banashankari</td>\n",
       "      <td>Café, Casual Dining</td>\n",
       "      <td>Churros, Cannelloni, Minestrone Soup, Hot Choc...</td>\n",
       "      <td>Cafe, Mexican, Italian</td>\n",
       "      <td>?800 for two people (approx.)</td>\n",
       "      <td>[('Rated 3.0', \"RATED\\n  Ambience is not that ...</td>\n",
       "      <td>[]</td>\n",
       "      <td>buffet_restaurants</td>\n",
       "      <td>Banashankari</td>\n",
       "    </tr>\n",
       "    <tr>\n",
       "      <td>3</td>\n",
       "      <td>https://www.zomato.com/bangalore/addhuri-udupi...</td>\n",
       "      <td>1st Floor, Annakuteera, 3rd Stage, Banashankar...</td>\n",
       "      <td>Addhuri Udupi Bhojana</td>\n",
       "      <td>No</td>\n",
       "      <td>No</td>\n",
       "      <td>3.7/5</td>\n",
       "      <td>88.0</td>\n",
       "      <td>+91 9620009302</td>\n",
       "      <td>Banashankari</td>\n",
       "      <td>Quick Bites</td>\n",
       "      <td>Masala Dosa</td>\n",
       "      <td>South Indian, North Indian</td>\n",
       "      <td>?300 for two people (approx.)</td>\n",
       "      <td>[('Rated 4.0', \"RATED\\n  Great food and proper...</td>\n",
       "      <td>[]</td>\n",
       "      <td>buffet_restaurants</td>\n",
       "      <td>Banashankari</td>\n",
       "    </tr>\n",
       "    <tr>\n",
       "      <td>4</td>\n",
       "      <td>https://www.zomato.com/bangalore/grand-village...</td>\n",
       "      <td>10, 3rd Floor, Lakshmi Associates, Gandhi Baza...</td>\n",
       "      <td>Grand Village</td>\n",
       "      <td>No</td>\n",
       "      <td>No</td>\n",
       "      <td>3.8/5</td>\n",
       "      <td>166.0</td>\n",
       "      <td>+91 8026612447\\r\\n+91 9901210005</td>\n",
       "      <td>Basavanagudi</td>\n",
       "      <td>Casual Dining</td>\n",
       "      <td>Panipuri, Gol Gappe</td>\n",
       "      <td>North Indian, Rajasthani</td>\n",
       "      <td>?600 for two people (approx.)</td>\n",
       "      <td>[('Rated 4.0', 'RATED\\n  Very good restaurant ...</td>\n",
       "      <td>[]</td>\n",
       "      <td>buffet_restaurants</td>\n",
       "      <td>Banashankari</td>\n",
       "    </tr>\n",
       "  </tbody>\n",
       "</table>\n",
       "</div>"
      ],
      "text/plain": [
       "                                                 URL  \\\n",
       "0  https://www.zomato.com/bangalore/jalsa-banasha...   \n",
       "1  https://www.zomato.com/bangalore/spice-elephan...   \n",
       "2  https://www.zomato.com/SanchurroBangalore?cont...   \n",
       "3  https://www.zomato.com/bangalore/addhuri-udupi...   \n",
       "4  https://www.zomato.com/bangalore/grand-village...   \n",
       "\n",
       "                                             Address                   Name  \\\n",
       "0  942, 21st Main Road, 2nd Stage, Banashankari, ...                  Jalsa   \n",
       "1  2nd Floor, 80 Feet Road, Near Big Bazaar, 6th ...         Spice Elephant   \n",
       "2  1112, Next to KIMS Medical College, 17th Cross...        San Churro Cafe   \n",
       "3  1st Floor, Annakuteera, 3rd Stage, Banashankar...  Addhuri Udupi Bhojana   \n",
       "4  10, 3rd Floor, Lakshmi Associates, Gandhi Baza...          Grand Village   \n",
       "\n",
       "  Online_order Book_table   Rate  Votes                             Phone  \\\n",
       "0          Yes        Yes  4.1/5  775.0    080 42297555\\r\\n+91 9743772233   \n",
       "1          Yes         No  4.1/5  787.0                      080 41714161   \n",
       "2          Yes         No  3.8/5  918.0                    +91 9663487993   \n",
       "3           No         No  3.7/5   88.0                    +91 9620009302   \n",
       "4           No         No  3.8/5  166.0  +91 8026612447\\r\\n+91 9901210005   \n",
       "\n",
       "       Location            Rest_type  \\\n",
       "0  Banashankari        Casual Dining   \n",
       "1  Banashankari        Casual Dining   \n",
       "2  Banashankari  Café, Casual Dining   \n",
       "3  Banashankari          Quick Bites   \n",
       "4  Basavanagudi        Casual Dining   \n",
       "\n",
       "                                          Dish_liked  \\\n",
       "0  Pasta, Lunch Buffet, Masala Papad, Paneer Laja...   \n",
       "1  Momos, Lunch Buffet, Chocolate Nirvana, Thai G...   \n",
       "2  Churros, Cannelloni, Minestrone Soup, Hot Choc...   \n",
       "3                                        Masala Dosa   \n",
       "4                                Panipuri, Gol Gappe   \n",
       "\n",
       "                         Cuisines                     Approx_cost  \\\n",
       "0  North Indian, Mughlai, Chinese  ?800 for two people (approx.)    \n",
       "1     Chinese, North Indian, Thai  ?800 for two people (approx.)    \n",
       "2          Cafe, Mexican, Italian  ?800 for two people (approx.)    \n",
       "3      South Indian, North Indian  ?300 for two people (approx.)    \n",
       "4        North Indian, Rajasthani  ?600 for two people (approx.)    \n",
       "\n",
       "                                        Reviews_list Menu_item  \\\n",
       "0  [('Rated 4.0', 'RATED\\n  A beautiful place to ...        []   \n",
       "1  [('Rated 4.0', 'RATED\\n  Had been here for din...        []   \n",
       "2  [('Rated 3.0', \"RATED\\n  Ambience is not that ...        []   \n",
       "3  [('Rated 4.0', \"RATED\\n  Great food and proper...        []   \n",
       "4  [('Rated 4.0', 'RATED\\n  Very good restaurant ...        []   \n",
       "\n",
       "      Listed_in(type) Listed_in(city)  \n",
       "0  buffet_restaurants    Banashankari  \n",
       "1  buffet_restaurants    Banashankari  \n",
       "2  buffet_restaurants    Banashankari  \n",
       "3  buffet_restaurants    Banashankari  \n",
       "4  buffet_restaurants    Banashankari  "
      ]
     },
     "execution_count": 3,
     "metadata": {},
     "output_type": "execute_result"
    }
   ],
   "source": [
    "zomato_orgnl=pd.read_csv(\"C:/Capstone/zomato_data.csv\")\n",
    "zomato_orgnl.head()"
   ]
  },
  {
   "cell_type": "markdown",
   "metadata": {},
   "source": [
    "Deleting unnecessary column"
   ]
  },
  {
   "cell_type": "code",
   "execution_count": 4,
   "metadata": {},
   "outputs": [],
   "source": [
    "#Deleting Unnnecessary Columns\n",
    "zomato=zomato_orgnl.drop(['URL','Dish_liked','Phone'],axis=1) "
   ]
  },
  {
   "cell_type": "markdown",
   "metadata": {},
   "source": [
    "Removing the duplicates"
   ]
  },
  {
   "cell_type": "code",
   "execution_count": 5,
   "metadata": {},
   "outputs": [],
   "source": [
    "#Removing the Duplicates\n",
    "zomato.duplicated().sum()\n",
    "zomato.drop_duplicates(inplace=True)"
   ]
  },
  {
   "cell_type": "markdown",
   "metadata": {},
   "source": [
    "Remove the NaN values from the dataset"
   ]
  },
  {
   "cell_type": "code",
   "execution_count": 6,
   "metadata": {},
   "outputs": [
    {
     "name": "stdout",
     "output_type": "stream",
     "text": [
      "<class 'pandas.core.frame.DataFrame'>\n",
      "Int64Index: 41092 entries, 0 to 51831\n",
      "Data columns (total 14 columns):\n",
      "Address            41092 non-null object\n",
      "Name               41092 non-null object\n",
      "Online_order       41092 non-null object\n",
      "Book_table         41092 non-null object\n",
      "Rate               41092 non-null object\n",
      "Votes              41092 non-null float64\n",
      "Location           41092 non-null object\n",
      "Rest_type          41092 non-null object\n",
      "Cuisines           41092 non-null object\n",
      "Approx_cost        41092 non-null object\n",
      "Reviews_list       41092 non-null object\n",
      "Menu_item          41092 non-null object\n",
      "Listed_in(type)    41092 non-null object\n",
      "Listed_in(city)    41092 non-null object\n",
      "dtypes: float64(1), object(13)\n",
      "memory usage: 4.7+ MB\n"
     ]
    }
   ],
   "source": [
    "#Remove the NaN values from the dataset\n",
    "zomato.isnull().sum()\n",
    "zomato.dropna(how='any',inplace=True)\n",
    "zomato.info()"
   ]
  },
  {
   "cell_type": "markdown",
   "metadata": {},
   "source": [
    "Changing the Columns Names"
   ]
  },
  {
   "cell_type": "code",
   "execution_count": 7,
   "metadata": {},
   "outputs": [
    {
     "data": {
      "text/plain": [
       "Index(['Address', 'Name', 'Online_order', 'Book_table', 'Rate', 'Votes',\n",
       "       'Location', 'Rest_type', 'Cuisines', 'cost', 'Reviews_list',\n",
       "       'Menu_item', 'Listed_in(type)', 'Listed_in(city)'],\n",
       "      dtype='object')"
      ]
     },
     "execution_count": 7,
     "metadata": {},
     "output_type": "execute_result"
    }
   ],
   "source": [
    "#Changing the Columns Names\n",
    "zomato.columns\n",
    "zomato = zomato.rename(columns={'Approx_cost':'cost','listed_in(type)':'type',\n",
    "                                  'listed_in(city)':'city'})\n",
    "zomato.columns\n"
   ]
  },
  {
   "cell_type": "markdown",
   "metadata": {},
   "source": [
    "Some Transformations"
   ]
  },
  {
   "cell_type": "code",
   "execution_count": 8,
   "metadata": {},
   "outputs": [
    {
     "name": "stdout",
     "output_type": "stream",
     "text": [
      "<class 'pandas.core.frame.DataFrame'>\n",
      "Int64Index: 41092 entries, 0 to 51831\n",
      "Data columns (total 14 columns):\n",
      "Address            41092 non-null object\n",
      "Name               41092 non-null object\n",
      "Online_order       41092 non-null object\n",
      "Book_table         41092 non-null object\n",
      "Rate               41092 non-null object\n",
      "Votes              41092 non-null float64\n",
      "Location           41092 non-null object\n",
      "Rest_type          41092 non-null object\n",
      "Cuisines           41092 non-null object\n",
      "cost               41092 non-null object\n",
      "Reviews_list       41092 non-null object\n",
      "Menu_item          41092 non-null object\n",
      "Listed_in(type)    41092 non-null object\n",
      "Listed_in(city)    41092 non-null object\n",
      "dtypes: float64(1), object(13)\n",
      "memory usage: 4.7+ MB\n"
     ]
    }
   ],
   "source": [
    "#Some Transformations\n",
    "zomato['cost'] = zomato['cost'].astype(str)\n",
    "zomato['cost'] = zomato['cost'].apply(lambda x: x.replace(',','.'))\n",
    "\n",
    "zomato.info()"
   ]
  },
  {
   "cell_type": "markdown",
   "metadata": {},
   "source": [
    "Adjust the column names\n",
    "\n"
   ]
  },
  {
   "cell_type": "code",
   "execution_count": 9,
   "metadata": {},
   "outputs": [
    {
     "data": {
      "text/plain": [
       "array(['?800 for two people (approx.) ', '?300 for two people (approx.) ',\n",
       "       '?600 for two people (approx.) ', '?700 for two people (approx.) ',\n",
       "       '?550 for two people (approx.) ', '?500 for two people (approx.) ',\n",
       "       '?450 for two people (approx.) ', '?650 for two people (approx.) ',\n",
       "       '?400 for two people (approx.) ', '?900 for two people (approx.) ',\n",
       "       '?200 for two people (approx.) ', '?750 for two people (approx.) ',\n",
       "       '?150 for two people (approx.) ', '?850 for two people (approx.) ',\n",
       "       '?100 for two people (approx.) ',\n",
       "       '?1.200 for two people (approx.)  with alcohol ',\n",
       "       '?350 for two people (approx.) ', '?250 for two people (approx.) ',\n",
       "       '?800 for two people (approx.)  with alcohol ',\n",
       "       '?950 for two people (approx.) ',\n",
       "       '?1.000 for two people (approx.)  with alcohol ',\n",
       "       '?1.200 for two people (approx.) ',\n",
       "       '?1.500 for two people (approx.) ',\n",
       "       '?1.300 for two people (approx.) ',\n",
       "       '?1.000 for two people (approx.) ',\n",
       "       '?199 for two people (approx.) ',\n",
       "       '?1.500 for two people (approx.)  with alcohol ',\n",
       "       '?1.300 for two people (approx.)  with alcohol ',\n",
       "       '?700 for two people (approx.)  with alcohol ',\n",
       "       '?1.100 for two people (approx.)  with alcohol ',\n",
       "       '?900 for two people (approx.)  with alcohol ',\n",
       "       '?1.600 for two people (approx.) ',\n",
       "       '?1.600 for two people (approx.)  with alcohol ',\n",
       "       '?1.100 for two people (approx.) ',\n",
       "       '?230 for two people (approx.) ', '?130 for two people (approx.) ',\n",
       "       '?1.700 for two people (approx.)  with alcohol ',\n",
       "       '?1.350 for two people (approx.) ',\n",
       "       '?1.700 for two people (approx.) ',\n",
       "       '?1.350 for two people (approx.)  with alcohol ',\n",
       "       '?2.200 for two people (approx.)  with alcohol ',\n",
       "       '?1.400 for two people (approx.) ',\n",
       "       '?2.000 for two people (approx.) ',\n",
       "       '?1.400 for two people (approx.)  with alcohol ',\n",
       "       '?1.800 for two people (approx.) ',\n",
       "       '?2.000 for two people (approx.)  with alcohol ',\n",
       "       '?1.900 for two people (approx.)  with alcohol ',\n",
       "       '?180 for two people (approx.) ', '?330 for two people (approx.) ',\n",
       "       '?2.500 for two people (approx.) ',\n",
       "       '?2.500 for two people (approx.)  with alcohol ',\n",
       "       '?2.200 for two people (approx.) ',\n",
       "       '?2.100 for two people (approx.) ',\n",
       "       '?3.000 for two people (approx.) ',\n",
       "       '?2.800 for two people (approx.) ',\n",
       "       '?1.900 for two people (approx.) ',\n",
       "       '?50 for two people (approx.) ', '?40 for two people (approx.) ',\n",
       "       '?1.250 for two people (approx.) ',\n",
       "       '?3.500 for two people (approx.) ',\n",
       "       '?3.400 for two people (approx.) ',\n",
       "       '?4.000 for two people (approx.) ',\n",
       "       '?2.800 for two people (approx.)  with alcohol ',\n",
       "       '?3.000 for two people (approx.)  with alcohol ',\n",
       "       '?600 for two people (approx.)  with alcohol ',\n",
       "       '?2.400 for two people (approx.)  with alcohol ',\n",
       "       '?2.600 for two people (approx.) ',\n",
       "       '?1.450 for two people (approx.)  with alcohol ',\n",
       "       '?100 for two people (approx.)\\r\\nFOR DINNER MENU\\r\\n ',\n",
       "       'â\\x82¹400 for two people (approx.) ',\n",
       "       'â\\x82¹300 for two people (approx.) ',\n",
       "       'â\\x82¹450 for two people (approx.) ',\n",
       "       'â\\x82¹500 for two people (approx.) ',\n",
       "       'â\\x82¹200 for two people (approx.) ',\n",
       "       'â\\x82¹150 for two people (approx.) ',\n",
       "       'â\\x82¹250 for two people (approx.) ',\n",
       "       'â\\x82¹800 for two people (approx.) ',\n",
       "       'â\\x82¹100 for two people (approx.) ',\n",
       "       'â\\x82¹600 for two people (approx.) ',\n",
       "       'â\\x82¹350 for two people (approx.) ',\n",
       "       'â\\x82¹1.100 for two people (approx.) ',\n",
       "       'â\\x82¹1.300 for two people (approx.) ',\n",
       "       'â\\x82¹700 for two people (approx.) ',\n",
       "       'â\\x82¹550 for two people (approx.) ',\n",
       "       'â\\x82¹1.200 for two people (approx.) ',\n",
       "       'â\\x82¹650 for two people (approx.) ',\n",
       "       'â\\x82¹900 for two people (approx.) ',\n",
       "       '?70 for two people (approx.) ',\n",
       "       '?3.200 for two people (approx.) ',\n",
       "       '?1.800 for two people (approx.)  with alcohol ',\n",
       "       '?850 for two people (approx.)  with alcohol ',\n",
       "       '?2.100 for two people (approx.)  with alcohol ',\n",
       "       '?240 for two people (approx.) ',\n",
       "       '?6.000 for two people (approx.) ',\n",
       "       '?1.050 for two people (approx.) ',\n",
       "       'â\\x82¹1.500 for two people (approx.) ',\n",
       "       'â\\x82¹1.400 for two people (approx.) ',\n",
       "       'â\\x82¹750 for two people (approx.) ',\n",
       "       'â\\x82¹1.000 for two people (approx.)  with alcohol ',\n",
       "       'â\\x82¹700 for two people (approx.)  with alcohol ',\n",
       "       'â\\x82¹1.800 for two people (approx.)  with alcohol ',\n",
       "       'â\\x82¹2.000 for two people (approx.)  with alcohol ',\n",
       "       'â\\x82¹1.600 for two people (approx.) ',\n",
       "       'â\\x82¹1.200 for two people (approx.)  with alcohol ',\n",
       "       'â\\x82¹1.000 for two people (approx.) ',\n",
       "       'â\\x82¹1.400 for two people (approx.)  with alcohol ',\n",
       "       'â\\x82¹1.500 for two people (approx.)  with alcohol ',\n",
       "       'â\\x82¹1.300 for two people (approx.)  with alcohol ',\n",
       "       'â\\x82¹850 for two people (approx.) ',\n",
       "       'â\\x82¹1.100 for two people (approx.)  with alcohol ',\n",
       "       'â\\x82¹1.050 for two people (approx.) ',\n",
       "       '?2.300 for two people (approx.)  with alcohol ',\n",
       "       '?1.250 for two people (approx.)  with alcohol ',\n",
       "       'â\\x82¹2.500 for two people (approx.) ',\n",
       "       'â\\x82¹1.700 for two people (approx.)  with alcohol ',\n",
       "       'â\\x82¹2.300 for two people (approx.)  with alcohol ',\n",
       "       'â\\x82¹800 for two people (approx.)  with alcohol ',\n",
       "       'â\\x82¹2.100 for two people (approx.)  with alcohol ',\n",
       "       'â\\x82¹1.600 for two people (approx.)  with alcohol ',\n",
       "       'â\\x82¹1.800 for two people (approx.) ',\n",
       "       'â\\x82¹1.700 for two people (approx.) ',\n",
       "       'â\\x82¹2.000 for two people (approx.) ',\n",
       "       'â\\x82¹600 for two people (approx.)  with alcohol ',\n",
       "       'Ã¢Â\\x82Â¹450 for two people (approx.) ',\n",
       "       'Ã¢Â\\x82Â¹250 for two people (approx.) ',\n",
       "       'Ã¢Â\\x82Â¹500 for two people (approx.) ',\n",
       "       'Ã¢Â\\x82Â¹800 for two people (approx.) ',\n",
       "       'Ã¢Â\\x82Â¹300 for two people (approx.) ',\n",
       "       'Ã¢Â\\x82Â¹400 for two people (approx.) ',\n",
       "       'Ã¢Â\\x82Â¹900 for two people (approx.) ',\n",
       "       'Ã¢Â\\x82Â¹200 for two people (approx.) ',\n",
       "       'Ã¢Â\\x82Â¹600 for two people (approx.) ',\n",
       "       'Ã¢Â\\x82Â¹650 for two people (approx.) ',\n",
       "       'Ã¢Â\\x82Â¹150 for two people (approx.) ',\n",
       "       'Ã¢Â\\x82Â¹550 for two people (approx.) ',\n",
       "       'Ã¢Â\\x82Â¹700 for two people (approx.) ',\n",
       "       'Ã¢Â\\x82Â¹750 for two people (approx.) ',\n",
       "       'Ã¢Â\\x82Â¹350 for two people (approx.) ',\n",
       "       'Ã¢Â\\x82Â¹100 for two people (approx.) ',\n",
       "       'Ã¢Â\\x82Â¹1.000 for two people (approx.) ',\n",
       "       'Ã¢Â\\x82Â¹1.200 for two people (approx.) ',\n",
       "       'Ã¢Â\\x82Â¹1.500 for two people (approx.) ',\n",
       "       'Ã¢Â\\x82Â¹1.500 for two people (approx.)  with alcohol ',\n",
       "       'Ã¢Â\\x82Â¹1.300 for two people (approx.) ',\n",
       "       'Ã¢Â\\x82Â¹1.600 for two people (approx.) ',\n",
       "       'â\\x82¹230 for two people (approx.) ',\n",
       "       'â\\x82¹130 for two people (approx.) ',\n",
       "       'â\\x82¹180 for two people (approx.) ',\n",
       "       'â\\x82¹900 for two people (approx.)  with alcohol ',\n",
       "       'â\\x82¹2.200 for two people (approx.) ',\n",
       "       'â\\x82¹2.100 for two people (approx.) ',\n",
       "       'â\\x82¹3.000 for two people (approx.) ',\n",
       "       'â\\x82¹3.400 for two people (approx.) ',\n",
       "       'â\\x82¹1.900 for two people (approx.) ',\n",
       "       'â\\x82¹2.200 for two people (approx.)  with alcohol ',\n",
       "       'â\\x82¹2.800 for two people (approx.) ',\n",
       "       'â\\x82¹4.100 for two people (approx.) ',\n",
       "       'â\\x82¹50 for two people (approx.) ',\n",
       "       'â\\x82¹950 for two people (approx.) ',\n",
       "       'â\\x82¹199 for two people (approx.) ',\n",
       "       'â\\x82¹1.250 for two people (approx.) ',\n",
       "       'â\\x82¹2.500 for two people (approx.)  with alcohol ',\n",
       "       'â\\x82¹3.500 for two people (approx.) ',\n",
       "       'â\\x82¹1.900 for two people (approx.)  with alcohol ',\n",
       "       'â\\x82¹3.000 for two people (approx.)  with alcohol ',\n",
       "       'â\\x82¹3.200 for two people (approx.) ',\n",
       "       'â\\x82¹4.000 for two people (approx.) ',\n",
       "       'â\\x82¹2.800 for two people (approx.)  with alcohol ',\n",
       "       'â\\x82¹2.300 for two people (approx.) ',\n",
       "       'â\\x82¹2.400 for two people (approx.)  with alcohol ',\n",
       "       'â\\x82¹2.600 for two people (approx.) ',\n",
       "       'â\\x82¹750 for two people (approx.)  with alcohol ',\n",
       "       'â\\x82¹2.400 for two people (approx.) ',\n",
       "       'â\\x82¹120 for two people (approx.) ',\n",
       "       'Ã¢Â\\x82Â¹1.100 for two people (approx.) ',\n",
       "       'Ã¢Â\\x82Â¹2.600 for two people (approx.)  with alcohol ',\n",
       "       'Ã¢Â\\x82Â¹2.000 for two people (approx.) ',\n",
       "       'Ã¢Â\\x82Â¹1.800 for two people (approx.)  with alcohol ',\n",
       "       'Ã¢Â\\x82Â¹2.500 for two people (approx.) ',\n",
       "       'Ã¢Â\\x82Â¹1.700 for two people (approx.) ',\n",
       "       'Ã¢Â\\x82Â¹1.400 for two people (approx.) ',\n",
       "       'Ã¢Â\\x82Â¹1.400 for two people (approx.)  with alcohol ',\n",
       "       'Ã¢Â\\x82Â¹950 for two people (approx.) ',\n",
       "       'Ã¢Â\\x82Â¹1.100 for two people (approx.)  with alcohol ',\n",
       "       'Ã¢Â\\x82Â¹2.000 for two people (approx.)  with alcohol ',\n",
       "       'Ã¢Â\\x82Â¹2.400 for two people (approx.) ',\n",
       "       'Ã¢Â\\x82Â¹4.100 for two people (approx.) ',\n",
       "       'Ã¢Â\\x82Â¹5.000 for two people (approx.) ',\n",
       "       'Ã¢Â\\x82Â¹3.000 for two people (approx.) ',\n",
       "       'Ã¢Â\\x82Â¹3.000 for two people (approx.)  with alcohol ',\n",
       "       'Ã¢Â\\x82Â¹4.000 for two people (approx.) ',\n",
       "       'Ã¢Â\\x82Â¹2.200 for two people (approx.)  with alcohol ',\n",
       "       'Ã¢Â\\x82Â¹1.800 for two people (approx.) ',\n",
       "       'Ã¢Â\\x82Â¹2.200 for two people (approx.) ',\n",
       "       'Ã¢Â\\x82Â¹2.500 for two people (approx.)  with alcohol ',\n",
       "       'Ã¢Â\\x82Â¹3.700 for two people (approx.) ',\n",
       "       'Ã¢Â\\x82Â¹900 for two people (approx.)  with alcohol ',\n",
       "       'Ã¢Â\\x82Â¹1.000 for two people (approx.)  with alcohol ',\n",
       "       'Ã¢Â\\x82Â¹800 for two people (approx.)  with alcohol ',\n",
       "       'â\\x82¹1.650 for two people (approx.)  with alcohol ',\n",
       "       'â\\x82¹2.600 for two people (approx.)  with alcohol ',\n",
       "       'â\\x82¹2.700 for two people (approx.) ',\n",
       "       'â\\x82¹4.500 for two people (approx.)  with alcohol ',\n",
       "       'â\\x82¹240 for two people (approx.) ',\n",
       "       'â\\x82¹6.000 for two people (approx.) ',\n",
       "       'Ã¢Â\\x82Â¹1.650 for two people (approx.)  with alcohol ',\n",
       "       'Ã¢Â\\x82Â¹850 for two people (approx.) ',\n",
       "       'Ã¢Â\\x82Â¹1.200 for two people (approx.)  with alcohol ',\n",
       "       'â\\x82¹80 for two people (approx.) ',\n",
       "       'â\\x82¹330 for two people (approx.) ',\n",
       "       'â\\x82¹1.700 for two people (approx.)\\nFOR DINNER MENU\\n ',\n",
       "       'â\\x82¹1.450 for two people (approx.)  with alcohol '],\n",
       "      dtype=object)"
      ]
     },
     "execution_count": 9,
     "metadata": {},
     "output_type": "execute_result"
    }
   ],
   "source": [
    "# Adjust the column names\n",
    "zomato.Name = zomato.Name.apply(lambda x:x.title())\n",
    "zomato.Online_order.replace(('Yes','No'),(True, False),inplace=True)\n",
    "zomato.Book_table.replace(('Yes','No'),(True, False),inplace=True)\n",
    "zomato.cost.unique()"
   ]
  },
  {
   "cell_type": "markdown",
   "metadata": {},
   "source": [
    "Encode the input Variables\n",
    "\n"
   ]
  },
  {
   "cell_type": "code",
   "execution_count": 10,
   "metadata": {},
   "outputs": [],
   "source": [
    "def Encode(zomato):\n",
    "    for column in zomato.columns[~zomato.columns.isin(['Rate', 'cost', 'Votes'])]:\n",
    "        zomato[column] = zomato[column].factorize()[0]\n",
    "    return zomato\n",
    "\n",
    "zomato_en = Encode(zomato.copy())"
   ]
  },
  {
   "cell_type": "markdown",
   "metadata": {},
   "source": [
    "Get Correlation between different variables\n",
    "\n"
   ]
  },
  {
   "cell_type": "code",
   "execution_count": 11,
   "metadata": {},
   "outputs": [
    {
     "data": {
      "text/plain": [
       "Index(['Address', 'Name', 'Online_order', 'Book_table', 'Rate', 'Votes',\n",
       "       'Location', 'Rest_type', 'Cuisines', 'cost', 'Reviews_list',\n",
       "       'Menu_item', 'Listed_in(type)', 'Listed_in(city)'],\n",
       "      dtype='object')"
      ]
     },
     "execution_count": 11,
     "metadata": {},
     "output_type": "execute_result"
    },
    {
     "data": {
      "image/png": "[encoded data removed]",
      "text/plain": [
       "<Figure size 1080x576 with 2 Axes>"
      ]
     },
     "metadata": {
      "needs_background": "light"
     },
     "output_type": "display_data"
    }
   ],
   "source": [
    "#Get Correlation between different variables\n",
    "corr = zomato_en.corr(method='kendall')\n",
    "plt.figure(figsize=(15,8))\n",
    "sns.heatmap(corr, annot=True)\n",
    "zomato_en.columns"
   ]
  },
  {
   "cell_type": "markdown",
   "metadata": {},
   "source": [
    "Defining the independent variables and dependent variables"
   ]
  },
  {
   "cell_type": "code",
   "execution_count": 12,
   "metadata": {},
   "outputs": [
    {
     "data": {
      "text/plain": [
       "11553     4.3/5\n",
       "45702    4.1 /5\n",
       "13413     4.0/5\n",
       "37469    3.2 /5\n",
       "20361     4.1/5\n",
       "Name: Rate, dtype: object"
      ]
     },
     "execution_count": 12,
     "metadata": {},
     "output_type": "execute_result"
    }
   ],
   "source": [
    "#Defining the independent variables and dependent variables\n",
    "x = zomato_en.iloc[:,[2,3,5,6,7,8,9,11]]\n",
    "y = zomato_en['Rate']\n",
    "#Getting Test and Training Set\n",
    "x_train,x_test,y_train,y_test=train_test_split(x,y,test_size=.1,random_state=353)\n",
    "x_train.head()\n",
    "y_train.head()"
   ]
  },
  {
   "cell_type": "markdown",
   "metadata": {},
   "source": [
    "# Regression Analysis"
   ]
  },
  {
   "cell_type": "markdown",
   "metadata": {},
   "source": [
    "Linear Regression¶\n"
   ]
  },
  {
   "cell_type": "code",
   "execution_count": 14,
   "metadata": {},
   "outputs": [
    {
     "ename": "ValueError",
     "evalue": "could not convert string to float: '?3.000 for two people (approx.) '",
     "output_type": "error",
     "traceback": [
      "\u001b[1;31m---------------------------------------------------------------------------\u001b[0m",
      "\u001b[1;31mValueError\u001b[0m                                Traceback (most recent call last)",
      "\u001b[1;32m<ipython-input-14-cf57075d1292>\u001b[0m in \u001b[0;36m<module>\u001b[1;34m\u001b[0m\n\u001b[0;32m      1\u001b[0m \u001b[1;31m#Prepare a Linear REgression Model\u001b[0m\u001b[1;33m\u001b[0m\u001b[1;33m\u001b[0m\u001b[1;33m\u001b[0m\u001b[0m\n\u001b[0;32m      2\u001b[0m \u001b[0mreg\u001b[0m\u001b[1;33m=\u001b[0m\u001b[0mLinearRegression\u001b[0m\u001b[1;33m(\u001b[0m\u001b[1;33m)\u001b[0m\u001b[1;33m\u001b[0m\u001b[1;33m\u001b[0m\u001b[0m\n\u001b[1;32m----> 3\u001b[1;33m \u001b[0mreg\u001b[0m\u001b[1;33m.\u001b[0m\u001b[0mfit\u001b[0m\u001b[1;33m(\u001b[0m\u001b[0mx_train\u001b[0m\u001b[1;33m,\u001b[0m\u001b[0my_train\u001b[0m\u001b[1;33m)\u001b[0m\u001b[1;33m\u001b[0m\u001b[1;33m\u001b[0m\u001b[0m\n\u001b[0m\u001b[0;32m      4\u001b[0m \u001b[0my_pred\u001b[0m\u001b[1;33m=\u001b[0m\u001b[0mreg\u001b[0m\u001b[1;33m.\u001b[0m\u001b[0mpredict\u001b[0m\u001b[1;33m(\u001b[0m\u001b[0mx_test\u001b[0m\u001b[1;33m)\u001b[0m\u001b[1;33m\u001b[0m\u001b[1;33m\u001b[0m\u001b[0m\n\u001b[0;32m      5\u001b[0m \u001b[1;32mfrom\u001b[0m \u001b[0msklearn\u001b[0m\u001b[1;33m.\u001b[0m\u001b[0mmetrics\u001b[0m \u001b[1;32mimport\u001b[0m \u001b[0mr2_score\u001b[0m\u001b[1;33m\u001b[0m\u001b[1;33m\u001b[0m\u001b[0m\n",
      "\u001b[1;32mC:\\ProgramData\\Anaconda3\\lib\\site-packages\\sklearn\\linear_model\\base.py\u001b[0m in \u001b[0;36mfit\u001b[1;34m(self, X, y, sample_weight)\u001b[0m\n\u001b[0;32m    461\u001b[0m         \u001b[0mn_jobs_\u001b[0m \u001b[1;33m=\u001b[0m \u001b[0mself\u001b[0m\u001b[1;33m.\u001b[0m\u001b[0mn_jobs\u001b[0m\u001b[1;33m\u001b[0m\u001b[1;33m\u001b[0m\u001b[0m\n\u001b[0;32m    462\u001b[0m         X, y = check_X_y(X, y, accept_sparse=['csr', 'csc', 'coo'],\n\u001b[1;32m--> 463\u001b[1;33m                          y_numeric=True, multi_output=True)\n\u001b[0m\u001b[0;32m    464\u001b[0m \u001b[1;33m\u001b[0m\u001b[0m\n\u001b[0;32m    465\u001b[0m         \u001b[1;32mif\u001b[0m \u001b[0msample_weight\u001b[0m \u001b[1;32mis\u001b[0m \u001b[1;32mnot\u001b[0m \u001b[1;32mNone\u001b[0m \u001b[1;32mand\u001b[0m \u001b[0mnp\u001b[0m\u001b[1;33m.\u001b[0m\u001b[0matleast_1d\u001b[0m\u001b[1;33m(\u001b[0m\u001b[0msample_weight\u001b[0m\u001b[1;33m)\u001b[0m\u001b[1;33m.\u001b[0m\u001b[0mndim\u001b[0m \u001b[1;33m>\u001b[0m \u001b[1;36m1\u001b[0m\u001b[1;33m:\u001b[0m\u001b[1;33m\u001b[0m\u001b[1;33m\u001b[0m\u001b[0m\n",
      "\u001b[1;32mC:\\ProgramData\\Anaconda3\\lib\\site-packages\\sklearn\\utils\\validation.py\u001b[0m in \u001b[0;36mcheck_X_y\u001b[1;34m(X, y, accept_sparse, accept_large_sparse, dtype, order, copy, force_all_finite, ensure_2d, allow_nd, multi_output, ensure_min_samples, ensure_min_features, y_numeric, warn_on_dtype, estimator)\u001b[0m\n\u001b[0;32m    717\u001b[0m                     \u001b[0mensure_min_features\u001b[0m\u001b[1;33m=\u001b[0m\u001b[0mensure_min_features\u001b[0m\u001b[1;33m,\u001b[0m\u001b[1;33m\u001b[0m\u001b[1;33m\u001b[0m\u001b[0m\n\u001b[0;32m    718\u001b[0m                     \u001b[0mwarn_on_dtype\u001b[0m\u001b[1;33m=\u001b[0m\u001b[0mwarn_on_dtype\u001b[0m\u001b[1;33m,\u001b[0m\u001b[1;33m\u001b[0m\u001b[1;33m\u001b[0m\u001b[0m\n\u001b[1;32m--> 719\u001b[1;33m                     estimator=estimator)\n\u001b[0m\u001b[0;32m    720\u001b[0m     \u001b[1;32mif\u001b[0m \u001b[0mmulti_output\u001b[0m\u001b[1;33m:\u001b[0m\u001b[1;33m\u001b[0m\u001b[1;33m\u001b[0m\u001b[0m\n\u001b[0;32m    721\u001b[0m         y = check_array(y, 'csr', force_all_finite=True, ensure_2d=False,\n",
      "\u001b[1;32mC:\\ProgramData\\Anaconda3\\lib\\site-packages\\sklearn\\utils\\validation.py\u001b[0m in \u001b[0;36mcheck_array\u001b[1;34m(array, accept_sparse, accept_large_sparse, dtype, order, copy, force_all_finite, ensure_2d, allow_nd, ensure_min_samples, ensure_min_features, warn_on_dtype, estimator)\u001b[0m\n\u001b[0;32m    534\u001b[0m         \u001b[1;31m# make sure we actually converted to numeric:\u001b[0m\u001b[1;33m\u001b[0m\u001b[1;33m\u001b[0m\u001b[1;33m\u001b[0m\u001b[0m\n\u001b[0;32m    535\u001b[0m         \u001b[1;32mif\u001b[0m \u001b[0mdtype_numeric\u001b[0m \u001b[1;32mand\u001b[0m \u001b[0marray\u001b[0m\u001b[1;33m.\u001b[0m\u001b[0mdtype\u001b[0m\u001b[1;33m.\u001b[0m\u001b[0mkind\u001b[0m \u001b[1;33m==\u001b[0m \u001b[1;34m\"O\"\u001b[0m\u001b[1;33m:\u001b[0m\u001b[1;33m\u001b[0m\u001b[1;33m\u001b[0m\u001b[0m\n\u001b[1;32m--> 536\u001b[1;33m             \u001b[0marray\u001b[0m \u001b[1;33m=\u001b[0m \u001b[0marray\u001b[0m\u001b[1;33m.\u001b[0m\u001b[0mastype\u001b[0m\u001b[1;33m(\u001b[0m\u001b[0mnp\u001b[0m\u001b[1;33m.\u001b[0m\u001b[0mfloat64\u001b[0m\u001b[1;33m)\u001b[0m\u001b[1;33m\u001b[0m\u001b[1;33m\u001b[0m\u001b[0m\n\u001b[0m\u001b[0;32m    537\u001b[0m         \u001b[1;32mif\u001b[0m \u001b[1;32mnot\u001b[0m \u001b[0mallow_nd\u001b[0m \u001b[1;32mand\u001b[0m \u001b[0marray\u001b[0m\u001b[1;33m.\u001b[0m\u001b[0mndim\u001b[0m \u001b[1;33m>=\u001b[0m \u001b[1;36m3\u001b[0m\u001b[1;33m:\u001b[0m\u001b[1;33m\u001b[0m\u001b[1;33m\u001b[0m\u001b[0m\n\u001b[0;32m    538\u001b[0m             raise ValueError(\"Found array with dim %d. %s expected <= 2.\"\n",
      "\u001b[1;31mValueError\u001b[0m: could not convert string to float: '?3.000 for two people (approx.) '"
     ]
    }
   ],
   "source": [
    "#Prepare a Linear REgression Model\n",
    "reg=LinearRegression()\n",
    "reg.fit(x_train,y_train)\n",
    "y_pred=reg.predict(x_test)\n",
    "from sklearn.metrics import r2_score\n",
    "r2_score(y_test,y_pred)"
   ]
  },
  {
   "cell_type": "code",
   "execution_count": null,
   "metadata": {},
   "outputs": [],
   "source": [
    "#Prepairng a Decision Tree Regression\n",
    "from sklearn.tree import DecisionTreeRegressor\n",
    "x_train,x_test,y_train,y_test=train_test_split(x,y,test_size=.1,random_state=105)\n",
    "DTree=DecisionTreeRegressor(min_samples_leaf=.0001)\n",
    "DTree.fit(x_train,y_train)\n",
    "y_predict=DTree.predict(x_test)\n",
    "from sklearn.metrics import r2_score\n",
    "r2_score(y_test,y_predict)"
   ]
  },
  {
   "cell_type": "code",
   "execution_count": 15,
   "metadata": {},
   "outputs": [
    {
     "ename": "ValueError",
     "evalue": "could not convert string to float: '?3.000 for two people (approx.) '",
     "output_type": "error",
     "traceback": [
      "\u001b[1;31m---------------------------------------------------------------------------\u001b[0m",
      "\u001b[1;31mValueError\u001b[0m                                Traceback (most recent call last)",
      "\u001b[1;32m<ipython-input-15-3617f7133594>\u001b[0m in \u001b[0;36m<module>\u001b[1;34m\u001b[0m\n\u001b[0;32m      2\u001b[0m \u001b[1;32mfrom\u001b[0m \u001b[0msklearn\u001b[0m\u001b[1;33m.\u001b[0m\u001b[0mensemble\u001b[0m \u001b[1;32mimport\u001b[0m \u001b[0mRandomForestRegressor\u001b[0m\u001b[1;33m\u001b[0m\u001b[1;33m\u001b[0m\u001b[0m\n\u001b[0;32m      3\u001b[0m \u001b[0mRForest\u001b[0m\u001b[1;33m=\u001b[0m\u001b[0mRandomForestRegressor\u001b[0m\u001b[1;33m(\u001b[0m\u001b[0mn_estimators\u001b[0m\u001b[1;33m=\u001b[0m\u001b[1;36m500\u001b[0m\u001b[1;33m,\u001b[0m\u001b[0mrandom_state\u001b[0m\u001b[1;33m=\u001b[0m\u001b[1;36m329\u001b[0m\u001b[1;33m,\u001b[0m\u001b[0mmin_samples_leaf\u001b[0m\u001b[1;33m=\u001b[0m\u001b[1;36m.0001\u001b[0m\u001b[1;33m)\u001b[0m\u001b[1;33m\u001b[0m\u001b[1;33m\u001b[0m\u001b[0m\n\u001b[1;32m----> 4\u001b[1;33m \u001b[0mRForest\u001b[0m\u001b[1;33m.\u001b[0m\u001b[0mfit\u001b[0m\u001b[1;33m(\u001b[0m\u001b[0mx_train\u001b[0m\u001b[1;33m,\u001b[0m\u001b[0my_train\u001b[0m\u001b[1;33m)\u001b[0m\u001b[1;33m\u001b[0m\u001b[1;33m\u001b[0m\u001b[0m\n\u001b[0m\u001b[0;32m      5\u001b[0m \u001b[0my_predict\u001b[0m\u001b[1;33m=\u001b[0m\u001b[0mRForest\u001b[0m\u001b[1;33m.\u001b[0m\u001b[0mpredict\u001b[0m\u001b[1;33m(\u001b[0m\u001b[0mx_test\u001b[0m\u001b[1;33m)\u001b[0m\u001b[1;33m\u001b[0m\u001b[1;33m\u001b[0m\u001b[0m\n\u001b[0;32m      6\u001b[0m \u001b[1;32mfrom\u001b[0m \u001b[0msklearn\u001b[0m\u001b[1;33m.\u001b[0m\u001b[0mmetrics\u001b[0m \u001b[1;32mimport\u001b[0m \u001b[0mr2_score\u001b[0m\u001b[1;33m\u001b[0m\u001b[1;33m\u001b[0m\u001b[0m\n",
      "\u001b[1;32mC:\\ProgramData\\Anaconda3\\lib\\site-packages\\sklearn\\ensemble\\forest.py\u001b[0m in \u001b[0;36mfit\u001b[1;34m(self, X, y, sample_weight)\u001b[0m\n\u001b[0;32m    247\u001b[0m \u001b[1;33m\u001b[0m\u001b[0m\n\u001b[0;32m    248\u001b[0m         \u001b[1;31m# Validate or convert input data\u001b[0m\u001b[1;33m\u001b[0m\u001b[1;33m\u001b[0m\u001b[1;33m\u001b[0m\u001b[0m\n\u001b[1;32m--> 249\u001b[1;33m         \u001b[0mX\u001b[0m \u001b[1;33m=\u001b[0m \u001b[0mcheck_array\u001b[0m\u001b[1;33m(\u001b[0m\u001b[0mX\u001b[0m\u001b[1;33m,\u001b[0m \u001b[0maccept_sparse\u001b[0m\u001b[1;33m=\u001b[0m\u001b[1;34m\"csc\"\u001b[0m\u001b[1;33m,\u001b[0m \u001b[0mdtype\u001b[0m\u001b[1;33m=\u001b[0m\u001b[0mDTYPE\u001b[0m\u001b[1;33m)\u001b[0m\u001b[1;33m\u001b[0m\u001b[1;33m\u001b[0m\u001b[0m\n\u001b[0m\u001b[0;32m    250\u001b[0m         \u001b[0my\u001b[0m \u001b[1;33m=\u001b[0m \u001b[0mcheck_array\u001b[0m\u001b[1;33m(\u001b[0m\u001b[0my\u001b[0m\u001b[1;33m,\u001b[0m \u001b[0maccept_sparse\u001b[0m\u001b[1;33m=\u001b[0m\u001b[1;34m'csc'\u001b[0m\u001b[1;33m,\u001b[0m \u001b[0mensure_2d\u001b[0m\u001b[1;33m=\u001b[0m\u001b[1;32mFalse\u001b[0m\u001b[1;33m,\u001b[0m \u001b[0mdtype\u001b[0m\u001b[1;33m=\u001b[0m\u001b[1;32mNone\u001b[0m\u001b[1;33m)\u001b[0m\u001b[1;33m\u001b[0m\u001b[1;33m\u001b[0m\u001b[0m\n\u001b[0;32m    251\u001b[0m         \u001b[1;32mif\u001b[0m \u001b[0msample_weight\u001b[0m \u001b[1;32mis\u001b[0m \u001b[1;32mnot\u001b[0m \u001b[1;32mNone\u001b[0m\u001b[1;33m:\u001b[0m\u001b[1;33m\u001b[0m\u001b[1;33m\u001b[0m\u001b[0m\n",
      "\u001b[1;32mC:\\ProgramData\\Anaconda3\\lib\\site-packages\\sklearn\\utils\\validation.py\u001b[0m in \u001b[0;36mcheck_array\u001b[1;34m(array, accept_sparse, accept_large_sparse, dtype, order, copy, force_all_finite, ensure_2d, allow_nd, ensure_min_samples, ensure_min_features, warn_on_dtype, estimator)\u001b[0m\n\u001b[0;32m    494\u001b[0m             \u001b[1;32mtry\u001b[0m\u001b[1;33m:\u001b[0m\u001b[1;33m\u001b[0m\u001b[1;33m\u001b[0m\u001b[0m\n\u001b[0;32m    495\u001b[0m                 \u001b[0mwarnings\u001b[0m\u001b[1;33m.\u001b[0m\u001b[0msimplefilter\u001b[0m\u001b[1;33m(\u001b[0m\u001b[1;34m'error'\u001b[0m\u001b[1;33m,\u001b[0m \u001b[0mComplexWarning\u001b[0m\u001b[1;33m)\u001b[0m\u001b[1;33m\u001b[0m\u001b[1;33m\u001b[0m\u001b[0m\n\u001b[1;32m--> 496\u001b[1;33m                 \u001b[0marray\u001b[0m \u001b[1;33m=\u001b[0m \u001b[0mnp\u001b[0m\u001b[1;33m.\u001b[0m\u001b[0masarray\u001b[0m\u001b[1;33m(\u001b[0m\u001b[0marray\u001b[0m\u001b[1;33m,\u001b[0m \u001b[0mdtype\u001b[0m\u001b[1;33m=\u001b[0m\u001b[0mdtype\u001b[0m\u001b[1;33m,\u001b[0m \u001b[0morder\u001b[0m\u001b[1;33m=\u001b[0m\u001b[0morder\u001b[0m\u001b[1;33m)\u001b[0m\u001b[1;33m\u001b[0m\u001b[1;33m\u001b[0m\u001b[0m\n\u001b[0m\u001b[0;32m    497\u001b[0m             \u001b[1;32mexcept\u001b[0m \u001b[0mComplexWarning\u001b[0m\u001b[1;33m:\u001b[0m\u001b[1;33m\u001b[0m\u001b[1;33m\u001b[0m\u001b[0m\n\u001b[0;32m    498\u001b[0m                 raise ValueError(\"Complex data not supported\\n\"\n",
      "\u001b[1;32mC:\\ProgramData\\Anaconda3\\lib\\site-packages\\numpy\\core\\numeric.py\u001b[0m in \u001b[0;36masarray\u001b[1;34m(a, dtype, order)\u001b[0m\n\u001b[0;32m    536\u001b[0m \u001b[1;33m\u001b[0m\u001b[0m\n\u001b[0;32m    537\u001b[0m     \"\"\"\n\u001b[1;32m--> 538\u001b[1;33m     \u001b[1;32mreturn\u001b[0m \u001b[0marray\u001b[0m\u001b[1;33m(\u001b[0m\u001b[0ma\u001b[0m\u001b[1;33m,\u001b[0m \u001b[0mdtype\u001b[0m\u001b[1;33m,\u001b[0m \u001b[0mcopy\u001b[0m\u001b[1;33m=\u001b[0m\u001b[1;32mFalse\u001b[0m\u001b[1;33m,\u001b[0m \u001b[0morder\u001b[0m\u001b[1;33m=\u001b[0m\u001b[0morder\u001b[0m\u001b[1;33m)\u001b[0m\u001b[1;33m\u001b[0m\u001b[1;33m\u001b[0m\u001b[0m\n\u001b[0m\u001b[0;32m    539\u001b[0m \u001b[1;33m\u001b[0m\u001b[0m\n\u001b[0;32m    540\u001b[0m \u001b[1;33m\u001b[0m\u001b[0m\n",
      "\u001b[1;31mValueError\u001b[0m: could not convert string to float: '?3.000 for two people (approx.) '"
     ]
    }
   ],
   "source": [
    "#Preparing Random Forest REgression\n",
    "from sklearn.ensemble import RandomForestRegressor\n",
    "RForest=RandomForestRegressor(n_estimators=500,random_state=329,min_samples_leaf=.0001)\n",
    "RForest.fit(x_train,y_train)\n",
    "y_predict=RForest.predict(x_test)\n",
    "from sklearn.metrics import r2_score\n",
    "r2_score(y_test,y_predict)\n"
   ]
  },
  {
   "cell_type": "code",
   "execution_count": null,
   "metadata": {},
   "outputs": [],
   "source": []
  }
 ],
 "metadata": {
  "kernelspec": {
   "display_name": "Python 3",
   "language": "python",
   "name": "python3"
  },
  "language_info": {
   "codemirror_mode": {
    "name": "ipython",
    "version": 3
   },
   "file_extension": ".py",
   "mimetype": "text/x-python",
   "name": "python",
   "nbconvert_exporter": "python",
   "pygments_lexer": "ipython3",
   "version": "3.7.4"
  }
 },
 "nbformat": 4,
 "nbformat_minor": 2
}
